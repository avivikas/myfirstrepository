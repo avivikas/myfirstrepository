{
 "cells": [
  {
   "cell_type": "code",
   "execution_count": 3,
   "id": "327f7526",
   "metadata": {},
   "outputs": [
    {
     "name": "stdout",
     "output_type": "stream",
     "text": [
      "Enter the number 5\n",
      "\n",
      "1 \n",
      "1 2 \n",
      "1 2 3 \n",
      "1 2 3 4 \n"
     ]
    }
   ],
   "source": [
    "rows = int(input('Enter the number '))\n",
    "#rows = 7\n",
    "for i in range(1, rows + 1):\n",
    "    for j in range(1, i + 1):\n",
    "        print(j, end=' ')\n",
    "    print('')"
   ]
  },
  {
   "cell_type": "code",
   "execution_count": 2,
   "id": "d2f3f3a4",
   "metadata": {},
   "outputs": [
    {
     "name": "stdout",
     "output_type": "stream",
     "text": [
      "1 \n",
      "3 3 \n",
      "5 5 5 \n",
      "7 7 7 7 \n",
      "9 9 9 9 9 \n"
     ]
    }
   ],
   "source": [
    "rows = 5\n",
    "i = 1\n",
    "while i <= rows:\n",
    "    j = 1\n",
    "    while j <= i:\n",
    "        print((i * 2 - 1), end=\" \")\n",
    "        j = j + 1\n",
    "    i = i + 1\n",
    "    print('')"
   ]
  },
  {
   "cell_type": "code",
   "execution_count": 6,
   "id": "8f4257de",
   "metadata": {},
   "outputs": [
    {
     "name": "stdout",
     "output_type": "stream",
     "text": [
      "5 5 5 5 5 \r\n",
      "4 4 4 4 \r\n",
      "3 3 3 \r\n",
      "2 2 \r\n",
      "1 \r\n"
     ]
    }
   ],
   "source": [
    "rows = 5\n",
    "b = 0\n",
    "# reverse for loop from 5 to 0\n",
    "for i in range(rows, 0, -1):\n",
    "    b += 1\n",
    "    for j in range(1, i + 1):\n",
    "        print(i, end=' ')\n",
    "    print('\\r')"
   ]
  },
  {
   "cell_type": "code",
   "execution_count": 3,
   "id": "dad604d5",
   "metadata": {},
   "outputs": [
    {
     "name": "stdout",
     "output_type": "stream",
     "text": [
      "Enter your name = 415\n",
      "enter only alphabet\n"
     ]
    }
   ],
   "source": [
    "name = input('Enter your name = ')\n",
    "\n",
    "if name.isalpha():\n",
    "    print('you entered ', name )\n",
    "else:\n",
    "    print('enter only alphabet')\n",
    "        "
   ]
  },
  {
   "cell_type": "code",
   "execution_count": 4,
   "id": "46275004",
   "metadata": {},
   "outputs": [],
   "source": [
    "def used_car_info(car_yrs, car_name,car_km):\n",
    "    if car_yrs == 2021:\n",
    "        if car_km >= 10000 and car_km <= 15000:\n",
    "            if car_name == 'Hyundai Creta':\n",
    "                print('Hyundai Car price is = 900000 to 1050000')\n",
    "            else:\n",
    "                print('this time car is not available')\n",
    "        \n",
    "        elif car_km >= 16000 and car_km <= 20000:\n",
    "            if car_name == 'Honda Amaze':\n",
    "                print('Honda Car price is = 600000 to 800000')\n",
    "            else:\n",
    "                print('this time car is not available')\n",
    "        else:\n",
    "            print('No stock right now')\n",
    "    elif car_yrs == 2020:\n",
    "        if 12000 < car_km < 16000:\n",
    "            if car_name == 'Maruti swift':\n",
    "                print('Maruti Car price is = 555000 to 600000')\n",
    "            else:\n",
    "                print('this time Maruti car is not available')\n",
    "        elif 15000 < car_km < 20000:\n",
    "            if car_name == 'ford figo':\n",
    "                print('ford Car price is = 355000 to 500000')\n",
    "            else:\n",
    "                print('ford Not avail')\n",
    "        else:\n",
    "            print('out of stock')\n",
    "    else:\n",
    "        print('not available below 2020 years')  \n",
    "                "
   ]
  },
  {
   "cell_type": "code",
   "execution_count": 7,
   "id": "2b5e3e3a",
   "metadata": {},
   "outputs": [
    {
     "name": "stdout",
     "output_type": "stream",
     "text": [
      "Enter the car manufacturing year 2020\n",
      "Enter the car Kilometer 16000\n",
      "the the brandford figo\n",
      "ford Car price is = 355000 to 500000\n"
     ]
    }
   ],
   "source": [
    "car_yrs = int(input('Enter the car manufacturing year '))\n",
    "car_km = int(input('Enter the car Kilometer '))\n",
    "car_name = input('the the brand ')\n",
    "\n",
    "used_car_info(car_yrs, car_name,car_km)"
   ]
  }
 ],
 "metadata": {
  "kernelspec": {
   "display_name": "Python 3 (ipykernel)",
   "language": "python",
   "name": "python3"
  },
  "language_info": {
   "codemirror_mode": {
    "name": "ipython",
    "version": 3
   },
   "file_extension": ".py",
   "mimetype": "text/x-python",
   "name": "python",
   "nbconvert_exporter": "python",
   "pygments_lexer": "ipython3",
   "version": "3.9.12"
  }
 },
 "nbformat": 4,
 "nbformat_minor": 5
}
