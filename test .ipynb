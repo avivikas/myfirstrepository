{
 "cells": [
  {
   "cell_type": "markdown",
   "id": "1ec4b701",
   "metadata": {},
   "source": [
    "1- company employee getting salary as 22500, 50005, 45000, 19350, 25000, 10250, 15505. Write a pogram to store only those salary which are less than 25000 and display all the saved salary."
   ]
  },
  {
   "cell_type": "code",
   "execution_count": 1,
   "id": "b28e8551",
   "metadata": {},
   "outputs": [
    {
     "data": {
      "text/plain": [
       "[22500, 50005, 45000, 19350, 25000, 10250, 15505]"
      ]
     },
     "execution_count": 1,
     "metadata": {},
     "output_type": "execute_result"
    }
   ],
   "source": [
    "salary = [22500, 50005, 45000, 19350, 25000, 10250, 15505]\n",
    "salary"
   ]
  },
  {
   "cell_type": "code",
   "execution_count": 2,
   "id": "d12cfe03",
   "metadata": {},
   "outputs": [
    {
     "name": "stdout",
     "output_type": "stream",
     "text": [
      "[22500]\n",
      "[22500, 19350]\n",
      "[22500, 19350, 10250]\n",
      "[22500, 19350, 10250, 15505]\n"
     ]
    }
   ],
   "source": [
    "less_sal = []\n",
    "for sal in salary:\n",
    "    if sal < 25000:\n",
    "        less_sal.append(sal)\n",
    "        print(less_sal) # adding salary to list\n",
    "    "
   ]
  },
  {
   "cell_type": "code",
   "execution_count": 3,
   "id": "8a369c42",
   "metadata": {},
   "outputs": [
    {
     "name": "stdout",
     "output_type": "stream",
     "text": [
      "[22500, 19350, 10250, 15505]\n"
     ]
    }
   ],
   "source": [
    "print(less_sal)"
   ]
  },
  {
   "cell_type": "markdown",
   "id": "2b3cb599",
   "metadata": {},
   "source": [
    "2- In a start up company one of the employee foget his salaty and request to HR to tell hos salary. Write a program to fetch only Rohit's salary and print below output from your python code.\n",
    "\n",
    "### Dear Rohit your salary is 5000\n",
    "\n",
    "Employee salary and their salary respectively.\n",
    "\n",
    "- emp_sal = [2000,4000,5000,6000,6500,5200]\n",
    "- emp_name = ['Farhad', 'Shankar', 'Rohit', 'Astha', 'Shital', 'Abhishek']"
   ]
  },
  {
   "cell_type": "code",
   "execution_count": 5,
   "id": "2abb74ba",
   "metadata": {},
   "outputs": [
    {
     "name": "stdout",
     "output_type": "stream",
     "text": [
      "Dear Rohit your salary is- 5000\n"
     ]
    }
   ],
   "source": [
    "emp_sal = [2000,4000,5000,6000,6500,5200]\n",
    "emp_name = ['Farhad', 'Shankar', 'Rohit', 'Astha', 'Shital', 'Abhishek']\n",
    "\n",
    "for val in emp_name:\n",
    "    if val == 'Rohit':\n",
    "        name_index = emp_name.index(val) #nIdentifying the Index Number using index method\n",
    "        print(\"Dear\", val, \"your salary is-\", emp_sal[name_index]) # Using the index numebr fetching the name"
   ]
  },
  {
   "cell_type": "markdown",
   "id": "a991c556",
   "metadata": {},
   "source": [
    "Write a pytho code to calculate health premium. Accept data from user through input keyboard and use function\n",
    "\n",
    "1- GENDER- male and female only\n",
    "\n",
    "2-DATE OF BIRTH - year only (no date and month)\n",
    "\n",
    "3-SMOKER - yes and no only\n",
    "\n",
    "premium criteria should be-\n",
    "\n",
    "1- For MALE born between 1990-2000 and if he is a smoker, print as \"Your annual premium is Rs.35000\" and for NOM SMOKER apply discount 10% TO 35000 and print final discounted price.\n",
    "\n",
    "2- if born between 1970-1990 and smoker, premium is Rs.40000\" and for NOM SMOKER apply discount 5% TO 40000 and print final discounted price.\n",
    "\n",
    "3- For FEMALE born between 1990-2000 and if he is a smoker, print as \"Your annual premium is Rs.30000\" and for NOM SMOKER apply discount 10% TO 30000 and print final discount ed price.\n",
    "\n",
    "4- if born between 1970-1990 and smoker, premium is Rs.35000\" and for NOM SMOKER apply discount 5% TO 35000 and print final discounted price."
   ]
  },
  {
   "cell_type": "code",
   "execution_count": 11,
   "id": "a498ae6b",
   "metadata": {},
   "outputs": [],
   "source": [
    "def cal_health_pre(gender, dob, smoker):\n",
    "    if gender == 'm':\n",
    "        if dob >= 1990 and dob <= 2000:\n",
    "            if smoker == 'yes':\n",
    "                print('Your premium is 35000')\n",
    "            else:\n",
    "                prem= 35000 - (35000 * 0.1)\n",
    "                print('your premium is ', prem)\n",
    "        \n",
    "        elif dob >= 1970 and dob <= 1990:\n",
    "            if smoker == 'yes':\n",
    "                print('Your premium is 40000')\n",
    "            else:\n",
    "                prem= 40000 - (40000 * 0.05)\n",
    "                print('your premium is ', prem)\n",
    "        else:\n",
    "             print('he is not born in above years')\n",
    "                \n",
    "    elif gender == 'f':\n",
    "        if dob >= 1990 and dob <= 2000:\n",
    "            if smoker == 'yes':\n",
    "                print('Your premium is 30000')\n",
    "            else:\n",
    "                prem= 30000 - (30000 * 0.1)\n",
    "                print('your premium is ', prem)\n",
    "        \n",
    "        elif dob >= 1970 and dob <= 1990:\n",
    "            if smoker == 'yes':\n",
    "                print('Your premium is 35000')\n",
    "            else:\n",
    "                prem= 35000 - (35000 * 0.05)\n",
    "                print('your premium is ', prem)\n",
    "        else:\n",
    "             print('She is not born in above years')        \n",
    "        "
   ]
  },
  {
   "cell_type": "code",
   "execution_count": 23,
   "id": "3810bc74",
   "metadata": {},
   "outputs": [
    {
     "name": "stdout",
     "output_type": "stream",
     "text": [
      "Enter the gender -m\n",
      "Enter the DOB -1972\n",
      "Enter He/She is smoker or not - y\n"
     ]
    }
   ],
   "source": [
    "gender = input(\"Enter the gender -\")\n",
    "dob = int(input('Enter the DOB -'))\n",
    "smoker = input(\"Enter He/She is smoker or not - \")"
   ]
  },
  {
   "cell_type": "code",
   "execution_count": 24,
   "id": "8354b900",
   "metadata": {},
   "outputs": [
    {
     "name": "stdout",
     "output_type": "stream",
     "text": [
      "your premium is  38000.0\n"
     ]
    }
   ],
   "source": [
    "cal_health_pre(gender,dob,smoker)"
   ]
  },
  {
   "cell_type": "code",
   "execution_count": null,
   "id": "632a9f67",
   "metadata": {},
   "outputs": [],
   "source": []
  },
  {
   "cell_type": "code",
   "execution_count": null,
   "id": "b28ac4fc",
   "metadata": {},
   "outputs": [],
   "source": []
  }
 ],
 "metadata": {
  "kernelspec": {
   "display_name": "Python 3 (ipykernel)",
   "language": "python",
   "name": "python3"
  },
  "language_info": {
   "codemirror_mode": {
    "name": "ipython",
    "version": 3
   },
   "file_extension": ".py",
   "mimetype": "text/x-python",
   "name": "python",
   "nbconvert_exporter": "python",
   "pygments_lexer": "ipython3",
   "version": "3.9.12"
  }
 },
 "nbformat": 4,
 "nbformat_minor": 5
}
