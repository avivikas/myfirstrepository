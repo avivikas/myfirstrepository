{
 "cells": [
  {
   "cell_type": "code",
   "execution_count": 1,
   "id": "8180bc6e",
   "metadata": {},
   "outputs": [
    {
     "name": "stdout",
     "output_type": "stream",
     "text": [
      "34 -Fail! Better luck next\n"
     ]
    }
   ],
   "source": [
    "Marks= 34\n",
    "\n",
    "if Marks >= 60:\n",
    "    if Marks > 70: \n",
    "        print(Marks, \"-Dictiction\")\n",
    "    else:\n",
    "        print(Marks, \"-first\")\n",
    "    \n",
    "elif Marks >50 and Marks<=59:\n",
    "        print(Marks, \"-Second\")\n",
    "    \n",
    "elif Marks >=35:\n",
    "        print(Marks, \"-Pass\")\n",
    "    \n",
    "else:\n",
    "        print(Marks, \"-Fail! Better luck next\")\n",
    "    "
   ]
  },
  {
   "cell_type": "markdown",
   "id": "6c0140b4",
   "metadata": {},
   "source": [
    "### Set items are unordered, unchangeable, and do not allow duplicate values"
   ]
  },
  {
   "cell_type": "code",
   "execution_count": 2,
   "id": "b339cdec",
   "metadata": {},
   "outputs": [],
   "source": [
    "num = set()"
   ]
  },
  {
   "cell_type": "code",
   "execution_count": 3,
   "id": "369957e5",
   "metadata": {},
   "outputs": [
    {
     "data": {
      "text/plain": [
       "set()"
      ]
     },
     "execution_count": 3,
     "metadata": {},
     "output_type": "execute_result"
    }
   ],
   "source": [
    "num"
   ]
  },
  {
   "cell_type": "code",
   "execution_count": 4,
   "id": "1594ec4b",
   "metadata": {},
   "outputs": [
    {
     "ename": "TypeError",
     "evalue": "'int' object is not iterable",
     "output_type": "error",
     "traceback": [
      "\u001b[1;31m---------------------------------------------------------------------------\u001b[0m",
      "\u001b[1;31mTypeError\u001b[0m                                 Traceback (most recent call last)",
      "Input \u001b[1;32mIn [4]\u001b[0m, in \u001b[0;36m<cell line: 1>\u001b[1;34m()\u001b[0m\n\u001b[1;32m----> 1\u001b[0m num\u001b[38;5;241m=\u001b[39m \u001b[38;5;28;43mset\u001b[39;49m\u001b[43m(\u001b[49m\u001b[38;5;241;43m1\u001b[39;49m\u001b[43m)\u001b[49m\n",
      "\u001b[1;31mTypeError\u001b[0m: 'int' object is not iterable"
     ]
    }
   ],
   "source": [
    "num= set(1)"
   ]
  },
  {
   "cell_type": "code",
   "execution_count": 5,
   "id": "e2c1ead7",
   "metadata": {},
   "outputs": [],
   "source": [
    "num.add(1)"
   ]
  },
  {
   "cell_type": "code",
   "execution_count": 6,
   "id": "38ceca5e",
   "metadata": {},
   "outputs": [
    {
     "data": {
      "text/plain": [
       "{1}"
      ]
     },
     "execution_count": 6,
     "metadata": {},
     "output_type": "execute_result"
    }
   ],
   "source": [
    "num"
   ]
  },
  {
   "cell_type": "code",
   "execution_count": 7,
   "id": "2e419764",
   "metadata": {},
   "outputs": [
    {
     "data": {
      "text/plain": [
       "set"
      ]
     },
     "execution_count": 7,
     "metadata": {},
     "output_type": "execute_result"
    }
   ],
   "source": [
    "type(num)"
   ]
  },
  {
   "cell_type": "code",
   "execution_count": 8,
   "id": "9cb6855d",
   "metadata": {},
   "outputs": [
    {
     "data": {
      "text/plain": [
       "{1, 2, 4, 5}"
      ]
     },
     "execution_count": 8,
     "metadata": {},
     "output_type": "execute_result"
    }
   ],
   "source": [
    "num.add(2)\n",
    "num.add(4)\n",
    "num.add(1)\n",
    "num.add(5)\n",
    "num"
   ]
  },
  {
   "cell_type": "code",
   "execution_count": 9,
   "id": "ee1830a4",
   "metadata": {},
   "outputs": [
    {
     "data": {
      "text/plain": [
       "{1, 2, 3, 4, 5}"
      ]
     },
     "execution_count": 9,
     "metadata": {},
     "output_type": "execute_result"
    }
   ],
   "source": [
    "num.add(3)\n",
    "num"
   ]
  },
  {
   "cell_type": "code",
   "execution_count": 10,
   "id": "0730e0fe",
   "metadata": {},
   "outputs": [
    {
     "data": {
      "text/plain": [
       "[6, 3, 6, 1, 2, 5, 4, 9, 8, 1, 3, 4, 5, 7]"
      ]
     },
     "execution_count": 10,
     "metadata": {},
     "output_type": "execute_result"
    }
   ],
   "source": [
    "L=[6,3,6,1,2,5,4,9,8,1,3,4,5,7]\n",
    "L"
   ]
  },
  {
   "cell_type": "code",
   "execution_count": 11,
   "id": "1b32a006",
   "metadata": {},
   "outputs": [],
   "source": [
    "rem_dupli= set(L)"
   ]
  },
  {
   "cell_type": "code",
   "execution_count": 12,
   "id": "70a92949",
   "metadata": {},
   "outputs": [
    {
     "data": {
      "text/plain": [
       "{1, 2, 3, 4, 5, 6, 7, 8, 9}"
      ]
     },
     "execution_count": 12,
     "metadata": {},
     "output_type": "execute_result"
    }
   ],
   "source": [
    "rem_dupli"
   ]
  },
  {
   "cell_type": "code",
   "execution_count": 13,
   "id": "48ecc838",
   "metadata": {},
   "outputs": [
    {
     "ename": "TypeError",
     "evalue": "set expected at most 1 argument, got 6",
     "output_type": "error",
     "traceback": [
      "\u001b[1;31m---------------------------------------------------------------------------\u001b[0m",
      "\u001b[1;31mTypeError\u001b[0m                                 Traceback (most recent call last)",
      "Input \u001b[1;32mIn [13]\u001b[0m, in \u001b[0;36m<cell line: 1>\u001b[1;34m()\u001b[0m\n\u001b[1;32m----> 1\u001b[0m name\u001b[38;5;241m=\u001b[39m \u001b[38;5;28;43mset\u001b[39;49m\u001b[43m(\u001b[49m\u001b[38;5;124;43m'\u001b[39;49m\u001b[38;5;124;43mVikas\u001b[39;49m\u001b[38;5;124;43m'\u001b[39;49m\u001b[43m,\u001b[49m\u001b[43m \u001b[49m\u001b[38;5;124;43m'\u001b[39;49m\u001b[38;5;124;43mAarti\u001b[39;49m\u001b[38;5;124;43m'\u001b[39;49m\u001b[43m \u001b[49m\u001b[43m,\u001b[49m\u001b[43m \u001b[49m\u001b[38;5;124;43m'\u001b[39;49m\u001b[38;5;124;43mRaj\u001b[39;49m\u001b[38;5;124;43m'\u001b[39;49m\u001b[43m,\u001b[49m\u001b[43m \u001b[49m\u001b[38;5;124;43m'\u001b[39;49m\u001b[38;5;124;43mVirat\u001b[39;49m\u001b[38;5;124;43m'\u001b[39;49m\u001b[43m,\u001b[49m\u001b[43m \u001b[49m\u001b[38;5;124;43m'\u001b[39;49m\u001b[38;5;124;43mArti\u001b[39;49m\u001b[38;5;124;43m'\u001b[39;49m\u001b[43m,\u001b[49m\u001b[43m \u001b[49m\u001b[38;5;124;43m'\u001b[39;49m\u001b[38;5;124;43mAarti\u001b[39;49m\u001b[38;5;124;43m'\u001b[39;49m\u001b[43m)\u001b[49m\n\u001b[0;32m      2\u001b[0m name\n",
      "\u001b[1;31mTypeError\u001b[0m: set expected at most 1 argument, got 6"
     ]
    }
   ],
   "source": [
    "name= set('Vikas', 'Aarti' , 'Raj', 'Virat', 'Arti', 'Aarti')\n",
    "name"
   ]
  },
  {
   "cell_type": "code",
   "execution_count": 14,
   "id": "8b80922e",
   "metadata": {},
   "outputs": [
    {
     "data": {
      "text/plain": [
       "{'V', 'a', 'i', 'k', 's'}"
      ]
     },
     "execution_count": 14,
     "metadata": {},
     "output_type": "execute_result"
    }
   ],
   "source": [
    "name= set('Vikas')\n",
    "name"
   ]
  },
  {
   "cell_type": "code",
   "execution_count": 15,
   "id": "22de798c",
   "metadata": {},
   "outputs": [
    {
     "data": {
      "text/plain": [
       "{'V', 'a', 'i', 'k', 'r', 's'}"
      ]
     },
     "execution_count": 15,
     "metadata": {},
     "output_type": "execute_result"
    }
   ],
   "source": [
    "name.add('r')\n",
    "name"
   ]
  },
  {
   "cell_type": "code",
   "execution_count": 16,
   "id": "08116114",
   "metadata": {},
   "outputs": [
    {
     "ename": "TypeError",
     "evalue": "set.pop() takes no arguments (1 given)",
     "output_type": "error",
     "traceback": [
      "\u001b[1;31m---------------------------------------------------------------------------\u001b[0m",
      "\u001b[1;31mTypeError\u001b[0m                                 Traceback (most recent call last)",
      "Input \u001b[1;32mIn [16]\u001b[0m, in \u001b[0;36m<cell line: 1>\u001b[1;34m()\u001b[0m\n\u001b[1;32m----> 1\u001b[0m \u001b[43mname\u001b[49m\u001b[38;5;241;43m.\u001b[39;49m\u001b[43mpop\u001b[49m\u001b[43m(\u001b[49m\u001b[38;5;241;43m0\u001b[39;49m\u001b[43m)\u001b[49m\n\u001b[0;32m      2\u001b[0m name\n",
      "\u001b[1;31mTypeError\u001b[0m: set.pop() takes no arguments (1 given)"
     ]
    }
   ],
   "source": [
    "name.pop(0)\n",
    "name"
   ]
  },
  {
   "cell_type": "code",
   "execution_count": 17,
   "id": "cce5c446",
   "metadata": {},
   "outputs": [
    {
     "data": {
      "text/plain": [
       "{'a', 'i', 'k', 'r', 's'}"
      ]
     },
     "execution_count": 17,
     "metadata": {},
     "output_type": "execute_result"
    }
   ],
   "source": [
    "name.pop()\n",
    "name"
   ]
  },
  {
   "cell_type": "code",
   "execution_count": 18,
   "id": "34c5db1e",
   "metadata": {},
   "outputs": [
    {
     "data": {
      "text/plain": [
       "{'a', 'i', 'k', 'r', 's', 'vikas'}"
      ]
     },
     "execution_count": 18,
     "metadata": {},
     "output_type": "execute_result"
    }
   ],
   "source": [
    "name.add(\"vikas\")\n",
    "name"
   ]
  },
  {
   "cell_type": "code",
   "execution_count": 19,
   "id": "1c114395",
   "metadata": {},
   "outputs": [
    {
     "data": {
      "text/plain": [
       "{'ajay', 'tabbu', 'vikas'}"
      ]
     },
     "execution_count": 19,
     "metadata": {},
     "output_type": "execute_result"
    }
   ],
   "source": [
    "name1 = {'vikas', 'ajay', 'tabbu'}\n",
    "name1"
   ]
  },
  {
   "cell_type": "code",
   "execution_count": 20,
   "id": "0a151e26",
   "metadata": {},
   "outputs": [
    {
     "data": {
      "text/plain": [
       "set"
      ]
     },
     "execution_count": 20,
     "metadata": {},
     "output_type": "execute_result"
    }
   ],
   "source": [
    "type(name1)"
   ]
  },
  {
   "cell_type": "code",
   "execution_count": 21,
   "id": "e80fcaeb",
   "metadata": {},
   "outputs": [],
   "source": [
    "set1 = {\"apple\", \"banana\", \"cherry\"}\n",
    "set2 = {1, 5, 7, 9, 3}\n",
    "set3 = {True, False, False}"
   ]
  },
  {
   "cell_type": "code",
   "execution_count": 22,
   "id": "34356b88",
   "metadata": {},
   "outputs": [
    {
     "data": {
      "text/plain": [
       "{'apple', 'banana', 'cherry'}"
      ]
     },
     "execution_count": 22,
     "metadata": {},
     "output_type": "execute_result"
    }
   ],
   "source": [
    "set1"
   ]
  },
  {
   "cell_type": "code",
   "execution_count": 23,
   "id": "956fcd42",
   "metadata": {},
   "outputs": [
    {
     "data": {
      "text/plain": [
       "{False, True}"
      ]
     },
     "execution_count": 23,
     "metadata": {},
     "output_type": "execute_result"
    }
   ],
   "source": [
    "set3"
   ]
  },
  {
   "cell_type": "code",
   "execution_count": 24,
   "id": "e62173a2",
   "metadata": {},
   "outputs": [
    {
     "data": {
      "text/plain": [
       "{1, 3, 5, 7, 9}"
      ]
     },
     "execution_count": 24,
     "metadata": {},
     "output_type": "execute_result"
    }
   ],
   "source": [
    "set2"
   ]
  },
  {
   "cell_type": "code",
   "execution_count": 25,
   "id": "46c9e4fc",
   "metadata": {},
   "outputs": [
    {
     "data": {
      "text/plain": [
       "{False, True}"
      ]
     },
     "execution_count": 25,
     "metadata": {},
     "output_type": "execute_result"
    }
   ],
   "source": [
    "set1\n",
    "set2\n",
    "set3"
   ]
  },
  {
   "cell_type": "code",
   "execution_count": 27,
   "id": "0bb16688",
   "metadata": {},
   "outputs": [
    {
     "ename": "TypeError",
     "evalue": "set expected at most 1 argument, got 6",
     "output_type": "error",
     "traceback": [
      "\u001b[1;31m---------------------------------------------------------------------------\u001b[0m",
      "\u001b[1;31mTypeError\u001b[0m                                 Traceback (most recent call last)",
      "Input \u001b[1;32mIn [27]\u001b[0m, in \u001b[0;36m<cell line: 1>\u001b[1;34m()\u001b[0m\n\u001b[1;32m----> 1\u001b[0m name\u001b[38;5;241m=\u001b[39m \u001b[38;5;28;43mset\u001b[39;49m\u001b[43m(\u001b[49m\u001b[38;5;124;43m'\u001b[39;49m\u001b[38;5;124;43mVikas\u001b[39;49m\u001b[38;5;124;43m'\u001b[39;49m\u001b[43m,\u001b[49m\u001b[43m \u001b[49m\u001b[38;5;124;43m'\u001b[39;49m\u001b[38;5;124;43mAarti\u001b[39;49m\u001b[38;5;124;43m'\u001b[39;49m\u001b[43m \u001b[49m\u001b[43m,\u001b[49m\u001b[43m \u001b[49m\u001b[38;5;124;43m'\u001b[39;49m\u001b[38;5;124;43mRaj\u001b[39;49m\u001b[38;5;124;43m'\u001b[39;49m\u001b[43m,\u001b[49m\u001b[43m \u001b[49m\u001b[38;5;124;43m'\u001b[39;49m\u001b[38;5;124;43mVirat\u001b[39;49m\u001b[38;5;124;43m'\u001b[39;49m\u001b[43m,\u001b[49m\u001b[43m \u001b[49m\u001b[38;5;124;43m'\u001b[39;49m\u001b[38;5;124;43mArti\u001b[39;49m\u001b[38;5;124;43m'\u001b[39;49m\u001b[43m,\u001b[49m\u001b[43m \u001b[49m\u001b[38;5;124;43m'\u001b[39;49m\u001b[38;5;124;43mAarti\u001b[39;49m\u001b[38;5;124;43m'\u001b[39;49m\u001b[43m)\u001b[49m\n\u001b[0;32m      2\u001b[0m name\n",
      "\u001b[1;31mTypeError\u001b[0m: set expected at most 1 argument, got 6"
     ]
    }
   ],
   "source": [
    "name= set('Vikas', 'Aarti' , 'Raj', 'Virat', 'Arti', 'Aarti')\n",
    "name"
   ]
  },
  {
   "cell_type": "code",
   "execution_count": 31,
   "id": "83bde1db",
   "metadata": {},
   "outputs": [
    {
     "data": {
      "text/plain": [
       "{'Aarti', 'Arti', 'Raj', 'Vikas', 'Virat'}"
      ]
     },
     "execution_count": 31,
     "metadata": {},
     "output_type": "execute_result"
    }
   ],
   "source": [
    "name= set(('Vikas', 'Aarti' , 'Raj', 'Virat', 'Arti', 'Aarti'))\n",
    "name"
   ]
  },
  {
   "cell_type": "code",
   "execution_count": 29,
   "id": "eeb820e6",
   "metadata": {},
   "outputs": [
    {
     "name": "stdout",
     "output_type": "stream",
     "text": [
      "Aarti\n"
     ]
    }
   ],
   "source": [
    "name.pop()\n",
    "print(name.pop())"
   ]
  },
  {
   "cell_type": "code",
   "execution_count": 32,
   "id": "67d0e450",
   "metadata": {},
   "outputs": [
    {
     "data": {
      "text/plain": [
       "{'Aarti', 'Arti', 'Raj', 'Vikas', 'Virat'}"
      ]
     },
     "execution_count": 32,
     "metadata": {},
     "output_type": "execute_result"
    }
   ],
   "source": [
    "name"
   ]
  },
  {
   "cell_type": "code",
   "execution_count": 33,
   "id": "a2e71560",
   "metadata": {},
   "outputs": [
    {
     "data": {
      "text/plain": [
       "{'Aarti', 'Arti', 'Raj', 'Vikas'}"
      ]
     },
     "execution_count": 33,
     "metadata": {},
     "output_type": "execute_result"
    }
   ],
   "source": [
    "name.pop()\n",
    "name"
   ]
  },
  {
   "cell_type": "code",
   "execution_count": 34,
   "id": "4ccba435",
   "metadata": {},
   "outputs": [
    {
     "name": "stdout",
     "output_type": "stream",
     "text": [
      "Vikas\n"
     ]
    }
   ],
   "source": [
    "name.pop()\n",
    "print(name.pop())"
   ]
  },
  {
   "cell_type": "code",
   "execution_count": 35,
   "id": "deb5ef09",
   "metadata": {},
   "outputs": [
    {
     "data": {
      "text/plain": [
       "{'Arti', 'Raj'}"
      ]
     },
     "execution_count": 35,
     "metadata": {},
     "output_type": "execute_result"
    }
   ],
   "source": [
    "name"
   ]
  },
  {
   "cell_type": "code",
   "execution_count": 1,
   "id": "9542bf14",
   "metadata": {},
   "outputs": [
    {
     "data": {
      "text/plain": [
       "{'Roll_no': 3, 'marks': [78, 85, 68], 'sub': ['math', 'science', 'computer']}"
      ]
     },
     "execution_count": 1,
     "metadata": {},
     "output_type": "execute_result"
    }
   ],
   "source": [
    "#          Creating Dictionary\n",
    "\n",
    "my_dic ={'Roll_no' : 3, 'marks' : [78,85,68], 'sub': ['math', 'science','computer']}\n",
    "my_dic"
   ]
  },
  {
   "cell_type": "code",
   "execution_count": 8,
   "id": "5f206633",
   "metadata": {},
   "outputs": [
    {
     "data": {
      "text/plain": [
       "'Roll_no'"
      ]
     },
     "execution_count": 8,
     "metadata": {},
     "output_type": "execute_result"
    }
   ],
   "source": [
    "'Roll_no'"
   ]
  },
  {
   "cell_type": "code",
   "execution_count": 9,
   "id": "580e31e8",
   "metadata": {},
   "outputs": [
    {
     "data": {
      "text/plain": [
       "['math', 'science', 'computer']"
      ]
     },
     "execution_count": 9,
     "metadata": {},
     "output_type": "execute_result"
    }
   ],
   "source": [
    "my_dic['sub']"
   ]
  },
  {
   "cell_type": "code",
   "execution_count": 14,
   "id": "210c5517",
   "metadata": {},
   "outputs": [
    {
     "data": {
      "text/plain": [
       "3"
      ]
     },
     "execution_count": 14,
     "metadata": {},
     "output_type": "execute_result"
    }
   ],
   "source": [
    "my_dic['Roll_no']"
   ]
  },
  {
   "cell_type": "code",
   "execution_count": 16,
   "id": "79782237",
   "metadata": {},
   "outputs": [
    {
     "data": {
      "text/plain": [
       "85"
      ]
     },
     "execution_count": 16,
     "metadata": {},
     "output_type": "execute_result"
    }
   ],
   "source": [
    "my_dic['marks'][1]"
   ]
  },
  {
   "cell_type": "code",
   "execution_count": 23,
   "id": "3dcb2c90",
   "metadata": {},
   "outputs": [
    {
     "data": {
      "text/plain": [
       "[68, 78, 85]"
      ]
     },
     "execution_count": 23,
     "metadata": {},
     "output_type": "execute_result"
    }
   ],
   "source": [
    "my_dic['marks']"
   ]
  },
  {
   "cell_type": "code",
   "execution_count": 24,
   "id": "076ea99d",
   "metadata": {},
   "outputs": [
    {
     "data": {
      "text/plain": [
       "'computer'"
      ]
     },
     "execution_count": 24,
     "metadata": {},
     "output_type": "execute_result"
    }
   ],
   "source": [
    "my_dic['sub'][2]"
   ]
  },
  {
   "cell_type": "code",
   "execution_count": 25,
   "id": "c525c5b8",
   "metadata": {},
   "outputs": [
    {
     "data": {
      "text/plain": [
       "'SCIENCE'"
      ]
     },
     "execution_count": 25,
     "metadata": {},
     "output_type": "execute_result"
    }
   ],
   "source": [
    "my_dic['sub'][1].upper()"
   ]
  },
  {
   "cell_type": "code",
   "execution_count": 29,
   "id": "81233d04",
   "metadata": {},
   "outputs": [
    {
     "data": {
      "text/plain": [
       "[68, 78, 85]"
      ]
     },
     "execution_count": 29,
     "metadata": {},
     "output_type": "execute_result"
    }
   ],
   "source": [
    "my_dic['marks'].sort()\n",
    "my_dic['marks']"
   ]
  },
  {
   "cell_type": "code",
   "execution_count": 30,
   "id": "65bdc234",
   "metadata": {},
   "outputs": [],
   "source": [
    "my_dic['marks'].reverse()"
   ]
  },
  {
   "cell_type": "code",
   "execution_count": 31,
   "id": "0215dcd6",
   "metadata": {},
   "outputs": [
    {
     "data": {
      "text/plain": [
       "[85, 78, 68]"
      ]
     },
     "execution_count": 31,
     "metadata": {},
     "output_type": "execute_result"
    }
   ],
   "source": [
    "my_dic['marks']"
   ]
  },
  {
   "cell_type": "code",
   "execution_count": null,
   "id": "e3a0b028",
   "metadata": {},
   "outputs": [],
   "source": [
    "my_dic['sub']."
   ]
  },
  {
   "cell_type": "code",
   "execution_count": 32,
   "id": "e7bb9306",
   "metadata": {},
   "outputs": [
    {
     "data": {
      "text/plain": [
       "{'Roll_no': 3, 'marks': [85, 78, 68], 'sub': ['math', 'science', 'computer']}"
      ]
     },
     "execution_count": 32,
     "metadata": {},
     "output_type": "execute_result"
    }
   ],
   "source": [
    "my_dic"
   ]
  },
  {
   "cell_type": "code",
   "execution_count": 33,
   "id": "08211dff",
   "metadata": {},
   "outputs": [],
   "source": [
    "# lengthy code to add marks to the data of the list\n",
    "my_dic['marks'][1] = my_dic['marks'][1] + 2\n"
   ]
  },
  {
   "cell_type": "code",
   "execution_count": 34,
   "id": "6e43ca3a",
   "metadata": {},
   "outputs": [
    {
     "data": {
      "text/plain": [
       "80"
      ]
     },
     "execution_count": 34,
     "metadata": {},
     "output_type": "execute_result"
    }
   ],
   "source": [
    "my_dic['marks'][1]"
   ]
  },
  {
   "cell_type": "code",
   "execution_count": 35,
   "id": "fd2e0d8d",
   "metadata": {},
   "outputs": [
    {
     "data": {
      "text/plain": [
       "{'Roll_no': 3, 'marks': [85, 80, 68], 'sub': ['math', 'science', 'computer']}"
      ]
     },
     "execution_count": 35,
     "metadata": {},
     "output_type": "execute_result"
    }
   ],
   "source": [
    "my_dic"
   ]
  },
  {
   "cell_type": "code",
   "execution_count": 36,
   "id": "3ae66f46",
   "metadata": {},
   "outputs": [],
   "source": [
    "# Sort code to add number to the data of the list\n",
    "my_dic['marks'][2]+= 2"
   ]
  },
  {
   "cell_type": "code",
   "execution_count": 37,
   "id": "a58b0872",
   "metadata": {},
   "outputs": [
    {
     "data": {
      "text/plain": [
       "{'Roll_no': 3, 'marks': [85, 80, 70], 'sub': ['math', 'science', 'computer']}"
      ]
     },
     "execution_count": 37,
     "metadata": {},
     "output_type": "execute_result"
    }
   ],
   "source": [
    "my_dic"
   ]
  },
  {
   "cell_type": "code",
   "execution_count": 39,
   "id": "ce9e28d1",
   "metadata": {},
   "outputs": [
    {
     "data": {
      "text/plain": [
       "{'Roll_no': 3, 'marks': [82, 80, 70], 'sub': ['math', 'science', 'computer']}"
      ]
     },
     "execution_count": 39,
     "metadata": {},
     "output_type": "execute_result"
    }
   ],
   "source": [
    "my_dic['marks'][0] -= 3\n",
    "my_dic"
   ]
  },
  {
   "cell_type": "code",
   "execution_count": 40,
   "id": "9426ce69",
   "metadata": {},
   "outputs": [],
   "source": [
    "# To add new key in exist dictionary\n",
    "my_dic['year'] = '2nd'"
   ]
  },
  {
   "cell_type": "code",
   "execution_count": 41,
   "id": "5c604af4",
   "metadata": {},
   "outputs": [
    {
     "data": {
      "text/plain": [
       "{'Roll_no': 3,\n",
       " 'marks': [82, 80, 70],\n",
       " 'sub': ['math', 'science', 'computer'],\n",
       " 'year': '2nd'}"
      ]
     },
     "execution_count": 41,
     "metadata": {},
     "output_type": "execute_result"
    }
   ],
   "source": [
    "my_dic"
   ]
  },
  {
   "cell_type": "code",
   "execution_count": 42,
   "id": "08901fc4",
   "metadata": {},
   "outputs": [],
   "source": [
    "# update value\n",
    "my_dic['sub'][0] = 'english'"
   ]
  },
  {
   "cell_type": "code",
   "execution_count": 43,
   "id": "276fbca2",
   "metadata": {},
   "outputs": [
    {
     "data": {
      "text/plain": [
       "{'Roll_no': 3,\n",
       " 'marks': [82, 80, 70],\n",
       " 'sub': ['english', 'science', 'computer'],\n",
       " 'year': '2nd'}"
      ]
     },
     "execution_count": 43,
     "metadata": {},
     "output_type": "execute_result"
    }
   ],
   "source": [
    "my_dic"
   ]
  },
  {
   "cell_type": "code",
   "execution_count": 44,
   "id": "57ee0641",
   "metadata": {},
   "outputs": [
    {
     "data": {
      "text/plain": [
       "dict_items([('Roll_no', 3), ('marks', [82, 80, 70]), ('sub', ['english', 'science', 'computer']), ('year', '2nd')])"
      ]
     },
     "execution_count": 44,
     "metadata": {},
     "output_type": "execute_result"
    }
   ],
   "source": [
    "my_dic.items()"
   ]
  },
  {
   "cell_type": "code",
   "execution_count": 46,
   "id": "674c65f8",
   "metadata": {},
   "outputs": [
    {
     "data": {
      "text/plain": [
       "{'Roll_no': 3,\n",
       " 'marks': [82, 80, 70],\n",
       " 'sub': ['english', 'science', 'computer'],\n",
       " 'year': '2nd'}"
      ]
     },
     "execution_count": 46,
     "metadata": {},
     "output_type": "execute_result"
    }
   ],
   "source": [
    "my_dic"
   ]
  },
  {
   "cell_type": "code",
   "execution_count": 47,
   "id": "19772a26",
   "metadata": {},
   "outputs": [],
   "source": [
    "final_dic= my_dic.copy()"
   ]
  },
  {
   "cell_type": "code",
   "execution_count": 48,
   "id": "81263343",
   "metadata": {},
   "outputs": [
    {
     "data": {
      "text/plain": [
       "{'Roll_no': 3,\n",
       " 'marks': [82, 80, 70],\n",
       " 'sub': ['english', 'science', 'computer'],\n",
       " 'year': '2nd'}"
      ]
     },
     "execution_count": 48,
     "metadata": {},
     "output_type": "execute_result"
    }
   ],
   "source": [
    "final_dic"
   ]
  },
  {
   "cell_type": "code",
   "execution_count": 49,
   "id": "2ec82c78",
   "metadata": {},
   "outputs": [
    {
     "data": {
      "text/plain": [
       "dict_keys(['Roll_no', 'marks', 'sub', 'year'])"
      ]
     },
     "execution_count": 49,
     "metadata": {},
     "output_type": "execute_result"
    }
   ],
   "source": [
    "my_dic.keys()"
   ]
  },
  {
   "cell_type": "code",
   "execution_count": 50,
   "id": "168bfbdb",
   "metadata": {},
   "outputs": [
    {
     "data": {
      "text/plain": [
       "dict_values([3, [82, 80, 70], ['english', 'science', 'computer'], '2nd'])"
      ]
     },
     "execution_count": 50,
     "metadata": {},
     "output_type": "execute_result"
    }
   ],
   "source": [
    "my_dic.values()"
   ]
  },
  {
   "cell_type": "code",
   "execution_count": null,
   "id": "be72e5d8",
   "metadata": {},
   "outputs": [],
   "source": [
    "my_dic."
   ]
  },
  {
   "cell_type": "code",
   "execution_count": 51,
   "id": "07f43cd6",
   "metadata": {},
   "outputs": [],
   "source": [
    "# Update value of dictionary by update mathod\n",
    "my_dic.update({'Roll_no' : 1})"
   ]
  },
  {
   "cell_type": "code",
   "execution_count": 52,
   "id": "1ea5ad6f",
   "metadata": {},
   "outputs": [
    {
     "data": {
      "text/plain": [
       "{'Roll_no': 1,\n",
       " 'marks': [82, 80, 70],\n",
       " 'sub': ['english', 'science', 'computer'],\n",
       " 'year': '2nd'}"
      ]
     },
     "execution_count": 52,
     "metadata": {},
     "output_type": "execute_result"
    }
   ],
   "source": [
    "my_dic"
   ]
  },
  {
   "cell_type": "code",
   "execution_count": 7,
   "id": "c47745c7",
   "metadata": {},
   "outputs": [
    {
     "name": "stdout",
     "output_type": "stream",
     "text": [
      "1\n",
      "2\n",
      "3\n",
      "4\n",
      "5\n"
     ]
    }
   ],
   "source": [
    "i = 1\n",
    "while i < 6:\n",
    "\n",
    "  print(i)\n",
    "  i += 1"
   ]
  },
  {
   "cell_type": "markdown",
   "id": "ee426346",
   "metadata": {},
   "source": [
    "## for loop-\n",
    " for loop is used for iterating over a sequence (that is either a list, a tuple, a dictionary, a set, or a string)."
   ]
  },
  {
   "cell_type": "code",
   "execution_count": 8,
   "id": "3d7b5b8d",
   "metadata": {},
   "outputs": [
    {
     "name": "stdout",
     "output_type": "stream",
     "text": [
      "apple\n",
      "banana\n",
      "cherry\n"
     ]
    }
   ],
   "source": [
    "fruits = [\"apple\", \"banana\", \"cherry\"]\n",
    "for x in fruits:\n",
    "  print(x)"
   ]
  },
  {
   "cell_type": "markdown",
   "id": "6a6c7107",
   "metadata": {},
   "source": [
    "## Looping Through a String\n",
    " Even strings are iterable objects, they contain a sequence of characters:"
   ]
  },
  {
   "cell_type": "code",
   "execution_count": 9,
   "id": "a9a1cd9d",
   "metadata": {},
   "outputs": [
    {
     "name": "stdout",
     "output_type": "stream",
     "text": [
      "b\n",
      "a\n",
      "n\n",
      "a\n",
      "n\n",
      "a\n"
     ]
    }
   ],
   "source": [
    "for x in \"banana\":\n",
    "  print(x)"
   ]
  },
  {
   "cell_type": "markdown",
   "id": "2bbbf9f6",
   "metadata": {},
   "source": [
    "## The break Statement\n",
    " With the break statement we can stop the loop before it has looped through all the items.\n",
    "The braek statement terminate the loop containing it."
   ]
  },
  {
   "cell_type": "code",
   "execution_count": 10,
   "id": "e5b61321",
   "metadata": {},
   "outputs": [
    {
     "name": "stdout",
     "output_type": "stream",
     "text": [
      "apple\n",
      "banana\n"
     ]
    }
   ],
   "source": [
    "\n",
    "fruits = [\"apple\", \"banana\", \"cherry\"]\n",
    "for x in fruits:\n",
    "  print(x)\n",
    "  if x == \"banana\":\n",
    "    break"
   ]
  },
  {
   "cell_type": "code",
   "execution_count": 12,
   "id": "177b90ef",
   "metadata": {},
   "outputs": [
    {
     "name": "stdout",
     "output_type": "stream",
     "text": [
      "apple\n"
     ]
    }
   ],
   "source": [
    "for x in fruits:\n",
    "  if x == \"banana\":\n",
    "    break\n",
    "  print(x)"
   ]
  },
  {
   "cell_type": "code",
   "execution_count": 36,
   "id": "926ffbf7",
   "metadata": {},
   "outputs": [
    {
     "name": "stdout",
     "output_type": "stream",
     "text": [
      "table of 2\n",
      "2 x 1 = 2\n",
      "2 x 2 = 4\n",
      "2 x 3 = 6\n",
      "2 x 4 = 8\n",
      "2 x 5 = 10\n",
      "2 x 6 = 12\n",
      "2 x 7 = 14\n",
      "2 x 8 = 16\n",
      "2 x 9 = 18\n",
      "2 x 10 = 20\n",
      "\n",
      "\n",
      "table of 3\n",
      "3 x 1 = 3\n",
      "3 x 2 = 6\n",
      "3 x 3 = 9\n",
      "3 x 4 = 12\n",
      "3 x 5 = 15\n",
      "3 x 6 = 18\n",
      "3 x 7 = 21\n",
      "3 x 8 = 24\n",
      "3 x 9 = 27\n",
      "3 x 10 = 30\n",
      "\n",
      "\n",
      "table of 4\n",
      "4 x 1 = 4\n",
      "4 x 2 = 8\n",
      "4 x 3 = 12\n",
      "4 x 4 = 16\n",
      "4 x 5 = 20\n",
      "4 x 6 = 24\n",
      "4 x 7 = 28\n",
      "4 x 8 = 32\n",
      "4 x 9 = 36\n",
      "4 x 10 = 40\n",
      "\n",
      "\n",
      "table of 5\n",
      "5 x 1 = 5\n",
      "5 x 2 = 10\n",
      "5 x 3 = 15\n",
      "5 x 4 = 20\n",
      "5 x 5 = 25\n",
      "5 x 6 = 30\n",
      "5 x 7 = 35\n",
      "5 x 8 = 40\n",
      "5 x 9 = 45\n",
      "5 x 10 = 50\n",
      "\n",
      "\n"
     ]
    }
   ],
   "source": [
    "# table program using nested for loop\n",
    "\n",
    "for x in range(2,6):\n",
    "    print(\"table of\", x)\n",
    "    for y in range(1,11):\n",
    "        print(x, 'x',y, '=', x * y)\n",
    "        if y == 10: \n",
    "            print('\\n')\n",
    "            "
   ]
  },
  {
   "cell_type": "code",
   "execution_count": 39,
   "id": "f3a8faf8",
   "metadata": {},
   "outputs": [
    {
     "name": "stdout",
     "output_type": "stream",
     "text": [
      "table of 2\n",
      "2 x 1 = 2\n",
      "2 x 2 = 4\n",
      "2 x 3 = 6\n",
      "2 x 4 = 8\n",
      "2 x 5 = 10\n",
      "2 x 6 = 12\n",
      "2 x 7 = 14\n",
      "2 x 8 = 16\n",
      "2 x 9 = 18\n",
      "2 x 10 = 20\n",
      "\n",
      "\n",
      "table of 3\n",
      "3 x 1 = 3\n",
      "3 x 2 = 6\n",
      "3 x 3 = 9\n",
      "3 x 4 = 12\n",
      "3 x 5 = 15\n",
      "3 x 6 = 18\n",
      "3 x 7 = 21\n",
      "3 x 8 = 24\n",
      "3 x 9 = 27\n",
      "3 x 10 = 30\n",
      "\n",
      "\n",
      "table of 4\n",
      "4 x 1 = 4\n",
      "4 x 2 = 8\n",
      "4 x 3 = 12\n",
      "4 x 4 = 16\n",
      "4 x 5 = 20\n",
      "4 x 6 = 24\n",
      "4 x 7 = 28\n",
      "4 x 8 = 32\n",
      "4 x 9 = 36\n",
      "4 x 10 = 40\n",
      "\n",
      "\n",
      "table of 5\n",
      "5 x 1 = 5\n",
      "5 x 2 = 10\n",
      "5 x 3 = 15\n",
      "5 x 4 = 20\n",
      "5 x 5 = 25\n",
      "5 x 6 = 30\n",
      "5 x 7 = 35\n",
      "5 x 8 = 40\n",
      "5 x 9 = 45\n",
      "5 x 10 = 50\n",
      "\n",
      "\n"
     ]
    }
   ],
   "source": [
    "for x in range(2,6):\n",
    "    print(\"table of\", x)\n",
    "    for y in range(1,11):\n",
    "        print(x, 'x',y, '=', x * y)\n",
    "        if y == 10: \n",
    "            print('\\n')"
   ]
  },
  {
   "cell_type": "code",
   "execution_count": 3,
   "id": "e7704fb1",
   "metadata": {},
   "outputs": [
    {
     "name": "stdout",
     "output_type": "stream",
     "text": [
      "Enter the number to print the tables for:900\n",
      "900 x 1 = 900\n",
      "900 x 2 = 1800\n",
      "900 x 3 = 2700\n",
      "900 x 4 = 3600\n",
      "900 x 5 = 4500\n",
      "900 x 6 = 5400\n",
      "900 x 7 = 6300\n",
      "900 x 8 = 7200\n",
      "900 x 9 = 8100\n",
      "900 x 10 = 9000\n"
     ]
    }
   ],
   "source": [
    "n=int(input(\"Enter the number to print the tables for:\"))\n",
    "for i in range(1,11):\n",
    "    print(n,\"x\",i,\"=\",n*i)"
   ]
  },
  {
   "cell_type": "code",
   "execution_count": null,
   "id": "f9ffbd70",
   "metadata": {},
   "outputs": [],
   "source": []
  },
  {
   "cell_type": "code",
   "execution_count": 45,
   "id": "fced172e",
   "metadata": {},
   "outputs": [
    {
     "name": "stdout",
     "output_type": "stream",
     "text": [
      " you have to purchase 100 Rs worth of an item for free shipping\n"
     ]
    }
   ],
   "source": [
    "item1 = 200\n",
    "\n",
    "item2 = 200\n",
    "\n",
    "if (item1 + item2) >= 500:\n",
    "    print(\"you are eligible for free shipping\")\n",
    "\n",
    "else:\n",
    "     extra = 500 - (item1 + item2)\n",
    "     print(\" you have to purchase\", extra, \"Rs worth of an item for free shipping\")"
   ]
  },
  {
   "cell_type": "code",
   "execution_count": 46,
   "id": "f7d7aa00",
   "metadata": {},
   "outputs": [
    {
     "name": "stdout",
     "output_type": "stream",
     "text": [
      "range(0, 10)\n"
     ]
    }
   ],
   "source": [
    "# range()function\n",
    "\n",
    "# The range() function returns a sequence of numbers, starting from 0 by default, and increments by 1 (by default),\n",
    "# and stops before a specified number.\n",
    "\n",
    "# Syntax\n",
    "# range(start, stop, stepsize)\n",
    "\n",
    "print(range(10))"
   ]
  },
  {
   "cell_type": "code",
   "execution_count": 47,
   "id": "1ffa42a5",
   "metadata": {},
   "outputs": [
    {
     "name": "stdout",
     "output_type": "stream",
     "text": [
      "[0, 1, 2, 3, 4, 5, 6, 7, 8, 9]\n"
     ]
    }
   ],
   "source": [
    "print(list(range(10)))"
   ]
  },
  {
   "cell_type": "code",
   "execution_count": 49,
   "id": "a7b967e9",
   "metadata": {},
   "outputs": [
    {
     "data": {
      "text/plain": [
       "[1, 2, 3, 4, 5, 6, 7]"
      ]
     },
     "execution_count": 49,
     "metadata": {},
     "output_type": "execute_result"
    }
   ],
   "source": [
    "roll_number = list(range(1,8))\n",
    "roll_number"
   ]
  },
  {
   "cell_type": "code",
   "execution_count": 51,
   "id": "bfcaf802",
   "metadata": {},
   "outputs": [
    {
     "data": {
      "text/plain": [
       "[1, 3, 5, 7, 9, 11, 13, 15, 17, 19, 21]"
      ]
     },
     "execution_count": 51,
     "metadata": {},
     "output_type": "execute_result"
    }
   ],
   "source": [
    "step_size = list(range(1,22,2))\n",
    "step_size"
   ]
  },
  {
   "cell_type": "code",
   "execution_count": 16,
   "id": "f72a7863",
   "metadata": {},
   "outputs": [
    {
     "data": {
      "text/plain": [
       "[10, 9, 8, 7, 6, 5, 4, 3]"
      ]
     },
     "execution_count": 16,
     "metadata": {},
     "output_type": "execute_result"
    }
   ],
   "source": [
    "reverse = list(range(10,2,-1))\n",
    "reverse"
   ]
  },
  {
   "cell_type": "code",
   "execution_count": null,
   "id": "5b84bddc",
   "metadata": {},
   "outputs": [],
   "source": [
    "# range fuction dont work for flaot data. we can fix this issue in the numpy classes"
   ]
  },
  {
   "cell_type": "code",
   "execution_count": 19,
   "id": "7b9c7e69",
   "metadata": {},
   "outputs": [
    {
     "name": "stdout",
     "output_type": "stream",
     "text": [
      "1 Data Science\n",
      "2 Data Science\n",
      "3 Data Science\n",
      "4 Data Science\n",
      "5 Data Science\n",
      "6 Data Science\n",
      "7 Data Science\n",
      "8 Data Science\n",
      "9 Data Science\n",
      "10 Data Science\n"
     ]
    }
   ],
   "source": [
    "# While Loop while loop in pythone is used to iterate overa block of code as long as the test expression(condotion) is true.\n",
    "i= 0\n",
    " \n",
    "while i < 10:\n",
    "    i = i + 1\n",
    "    print(i, 'Data Science')"
   ]
  },
  {
   "cell_type": "code",
   "execution_count": 4,
   "id": "886040eb",
   "metadata": {},
   "outputs": [
    {
     "name": "stdout",
     "output_type": "stream",
     "text": [
      "time.struct_time(tm_year=2022, tm_mon=8, tm_mday=18, tm_hour=19, tm_min=7, tm_sec=23, tm_wday=3, tm_yday=230, tm_isdst=0)\n"
     ]
    }
   ],
   "source": [
    "import time\n",
    "curr_time = time.localtime()\n",
    "print(curr_time)"
   ]
  },
  {
   "cell_type": "code",
   "execution_count": 6,
   "id": "bdcb89e9",
   "metadata": {},
   "outputs": [
    {
     "name": "stdout",
     "output_type": "stream",
     "text": [
      "wake up my son\n"
     ]
    }
   ],
   "source": [
    "# let'say you have set an alarm and how this works?\n",
    "\n",
    "while True:\n",
    "    curr_time = time.localtime()\n",
    "    if curr_time.tm_hour == 19 and curr_time.tm_min == 10:\n",
    "        print(\"wake up my son\")\n",
    "        break\n",
    "    "
   ]
  },
  {
   "cell_type": "code",
   "execution_count": null,
   "id": "c30d25eb",
   "metadata": {},
   "outputs": [],
   "source": [
    "# Difference between for loop and while loop\n",
    "# for loop- if you know how many times you want to excute the code then we use for loop.\n",
    "# Wile loop- if you don't know how many times you want to excute the code then we use while loop with condition."
   ]
  },
  {
   "cell_type": "code",
   "execution_count": 10,
   "id": "3b1dbdb7",
   "metadata": {},
   "outputs": [
    {
     "name": "stdout",
     "output_type": "stream",
     "text": [
      "(0, 'Vikas')\n",
      "(1, 'Aarti')\n",
      "(2, 'Avi')\n",
      "(3, 'Mummy')\n",
      "(4, 'Papa')\n"
     ]
    }
   ],
   "source": [
    "# Enumerate() allow us to itrate through a sequence but it keeps track of both tha index and the element.\n",
    "\n",
    "stu_name = ['Vikas', 'Aarti', 'Avi', 'Mummy','Papa']\n",
    "for name in enumerate(stu_name):\n",
    "    print(name)"
   ]
  },
  {
   "cell_type": "code",
   "execution_count": 12,
   "id": "1126e648",
   "metadata": {},
   "outputs": [
    {
     "name": "stdout",
     "output_type": "stream",
     "text": [
      "{(0, 1), (1, 2), (3, 4), (2, 3), (4, 5)}\n"
     ]
    }
   ],
   "source": [
    "set1 = {1, 2, 3, 4, 5}\n",
    "print(set(enumerate(set1)))\n"
   ]
  },
  {
   "cell_type": "code",
   "execution_count": 24,
   "id": "f66d07e8",
   "metadata": {},
   "outputs": [
    {
     "name": "stdout",
     "output_type": "stream",
     "text": [
      "(0, 'o')\n",
      "(1, 'l')\n",
      "(2, 'e')\n",
      "(3, 'H')\n"
     ]
    }
   ],
   "source": [
    "set2 = {\"H\", \"e\", \"l\", \"l\", \"o\"}\n",
    "L1= list(set2)\n",
    "for i in enumerate(L1):\n",
    "    print(i)\n",
    "\n"
   ]
  },
  {
   "cell_type": "code",
   "execution_count": 25,
   "id": "ec89f929",
   "metadata": {},
   "outputs": [
    {
     "name": "stdout",
     "output_type": "stream",
     "text": [
      "(2, 'Vikas')\n",
      "(3, 'Aarti')\n",
      "(4, 'Avi')\n",
      "(5, 'Mummy')\n",
      "(6, 'Papa')\n"
     ]
    }
   ],
   "source": [
    "stu_name = ['Vikas', 'Aarti', 'Avi', 'Mummy','Papa']\n",
    "for name in enumerate(stu_name,2):\n",
    "    print(name)"
   ]
  },
  {
   "cell_type": "code",
   "execution_count": 26,
   "id": "50a7a79b",
   "metadata": {},
   "outputs": [],
   "source": [
    "# Zip\n",
    "\n",
    "stu_name = ['Vikas', 'Aarti', 'Avi', 'Mummy','Papa']\n",
    "stu_mark = [88, 98, 55, 89, 53]"
   ]
  },
  {
   "cell_type": "code",
   "execution_count": 28,
   "id": "23fbc714",
   "metadata": {},
   "outputs": [
    {
     "data": {
      "text/plain": [
       "[('Vikas', 88), ('Aarti', 98), ('Avi', 55), ('Mummy', 89), ('Papa', 53)]"
      ]
     },
     "execution_count": 28,
     "metadata": {},
     "output_type": "execute_result"
    }
   ],
   "source": [
    "student_details = list(zip(stu_name, stu_mark))\n",
    "student_details"
   ]
  },
  {
   "cell_type": "code",
   "execution_count": 29,
   "id": "38c28b88",
   "metadata": {},
   "outputs": [],
   "source": [
    "# Unzip\n",
    "\n",
    "name , marks = zip(*student_details)"
   ]
  },
  {
   "cell_type": "code",
   "execution_count": 30,
   "id": "bda5c6be",
   "metadata": {},
   "outputs": [
    {
     "data": {
      "text/plain": [
       "('Vikas', 'Aarti', 'Avi', 'Mummy', 'Papa')"
      ]
     },
     "execution_count": 30,
     "metadata": {},
     "output_type": "execute_result"
    }
   ],
   "source": [
    "name"
   ]
  },
  {
   "cell_type": "code",
   "execution_count": 31,
   "id": "cd303d3d",
   "metadata": {},
   "outputs": [
    {
     "data": {
      "text/plain": [
       "(88, 98, 55, 89, 53)"
      ]
     },
     "execution_count": 31,
     "metadata": {},
     "output_type": "execute_result"
    }
   ],
   "source": [
    "marks"
   ]
  },
  {
   "cell_type": "code",
   "execution_count": 32,
   "id": "5d2d9c31",
   "metadata": {},
   "outputs": [
    {
     "name": "stdout",
     "output_type": "stream",
     "text": [
      "apple\n",
      "banana\n"
     ]
    }
   ],
   "source": [
    "\n",
    "# The break Statement\n",
    "# With the break statement we can stop the loop before it has looped through all the items.\n",
    "# The braek statement terminate the loop containing it.\n",
    "\n",
    "fruits = [\"apple\", \"banana\", \"cherry\"]\n",
    "for x in fruits:\n",
    "  print(x)\n",
    "  if x == \"banana\":\n",
    "    break"
   ]
  },
  {
   "cell_type": "markdown",
   "id": "1c0c73f3",
   "metadata": {},
   "source": [
    "### The continue keyword is used to end the current iteration in a for loop (or a while loop), and continues to the next iteration.\n",
    "\n"
   ]
  },
  {
   "cell_type": "code",
   "execution_count": 13,
   "id": "5080b1dd",
   "metadata": {},
   "outputs": [
    {
     "ename": "IndentationError",
     "evalue": "expected an indented block (3937193608.py, line 4)",
     "output_type": "error",
     "traceback": [
      "\u001b[1;36m  Input \u001b[1;32mIn [13]\u001b[1;36m\u001b[0m\n\u001b[1;33m    continue\u001b[0m\n\u001b[1;37m    ^\u001b[0m\n\u001b[1;31mIndentationError\u001b[0m\u001b[1;31m:\u001b[0m expected an indented block\n"
     ]
    }
   ],
   "source": [
    "fruits = [\"apple\", \"banana\", \"cherry\"]\n",
    "for x in fruits:\n",
    "    if x == \"banana\":\n",
    "    continue\n",
    "    print(x)"
   ]
  },
  {
   "cell_type": "code",
   "execution_count": 15,
   "id": "e00fbefb",
   "metadata": {},
   "outputs": [
    {
     "name": "stdout",
     "output_type": "stream",
     "text": [
      "1\n",
      "2\n",
      "4\n",
      "5\n",
      "6\n",
      "7\n",
      "8\n",
      "9\n"
     ]
    }
   ],
   "source": [
    "i = 0\n",
    "while i < 9:\n",
    "    i += 1\n",
    "    if i == 3:\n",
    "        continue\n",
    "    print(i)"
   ]
  },
  {
   "cell_type": "code",
   "execution_count": null,
   "id": "1c65b493",
   "metadata": {},
   "outputs": [],
   "source": []
  },
  {
   "cell_type": "code",
   "execution_count": null,
   "id": "70a796bd",
   "metadata": {},
   "outputs": [],
   "source": []
  },
  {
   "cell_type": "code",
   "execution_count": null,
   "id": "21cb80ed",
   "metadata": {},
   "outputs": [],
   "source": []
  },
  {
   "cell_type": "code",
   "execution_count": null,
   "id": "945ddb3f",
   "metadata": {},
   "outputs": [],
   "source": []
  },
  {
   "cell_type": "code",
   "execution_count": null,
   "id": "28c5a300",
   "metadata": {},
   "outputs": [],
   "source": []
  }
 ],
 "metadata": {
  "kernelspec": {
   "display_name": "Python 3 (ipykernel)",
   "language": "python",
   "name": "python3"
  },
  "language_info": {
   "codemirror_mode": {
    "name": "ipython",
    "version": 3
   },
   "file_extension": ".py",
   "mimetype": "text/x-python",
   "name": "python",
   "nbconvert_exporter": "python",
   "pygments_lexer": "ipython3",
   "version": "3.9.12"
  }
 },
 "nbformat": 4,
 "nbformat_minor": 5
}
