{
 "cells": [
  {
   "cell_type": "markdown",
   "id": "a3e35c18",
   "metadata": {},
   "source": [
    "### Errors and Exception handing\n",
    "In this section, we will learn about Errors and exception handing in python. you have might definitely encountered errors.\n",
    "\n",
    "### try and except\n",
    "syntax-\n",
    "\n",
    "try:\n",
    "\n",
    "    you do your operatons here...\n",
    "\n",
    "except Exceptiona1:\n",
    "\n",
    "     if there is Exception1, then excute this block.\n",
    "\n",
    "except Exceptiona2:\n",
    "\n",
    "     if there is Exception2, then excute this block.\n",
    "     \n",
    "     .....\n",
    "else:\n",
    "\n",
    "      if there is no exception, then excute this block.   "
   ]
  },
  {
   "cell_type": "code",
   "execution_count": 1,
   "id": "6d62af92",
   "metadata": {},
   "outputs": [],
   "source": [
    "mark1 = 25\n",
    "\n",
    "subject = 'Data Science'\n",
    "\n",
    "mark2 = 35"
   ]
  },
  {
   "cell_type": "code",
   "execution_count": 2,
   "id": "1debc7bc",
   "metadata": {},
   "outputs": [
    {
     "name": "stdout",
     "output_type": "stream",
     "text": [
      "you are adding integer to string. Make sure both data type are matching\n"
     ]
    }
   ],
   "source": [
    "try:\n",
    "    total_marks = mark1 + subject\n",
    "    \n",
    "except TypeError:\n",
    "    print('you are adding integer to string. Make sure both data type are matching')\n",
    "    \n",
    "else:\n",
    "    print('Total marks = ', total_marks)"
   ]
  },
  {
   "cell_type": "code",
   "execution_count": 3,
   "id": "28e8a86c",
   "metadata": {},
   "outputs": [
    {
     "name": "stdout",
     "output_type": "stream",
     "text": [
      "Total marks =  60\n"
     ]
    }
   ],
   "source": [
    "try:\n",
    "    total_marks = mark1 + mark2\n",
    "    \n",
    "except TypeError:\n",
    "    print('you are adding integer to string. Make sure both data type are matching')\n",
    "    \n",
    "else:\n",
    "    print('Total marks = ', total_marks)"
   ]
  },
  {
   "cell_type": "code",
   "execution_count": 2,
   "id": "130b8fdc",
   "metadata": {},
   "outputs": [
    {
     "name": "stdout",
     "output_type": "stream",
     "text": [
      "\n",
      " Enter the Car Number \n",
      "\n",
      " Enter the owner name  \n",
      "\n",
      " Enter the Mob. No. \n",
      "\n",
      " The car number field is required \n",
      "\n",
      " The owner name field is required\n",
      "\n",
      " The mobile number field is reqired\n"
     ]
    }
   ],
   "source": [
    "try:\n",
    "    car_number = input('\\n Enter the Car Number ')\n",
    "    cust_name = input('\\n Enter the owner name  ')\n",
    "    mobile = input('\\n Enter the Mob. No. ')\n",
    "    \n",
    "    if car_number == '':\n",
    "        raise Exception()\n",
    "    elif cust_name == '':\n",
    "        raise Exception()\n",
    "    elif mobile == '':\n",
    "        raise Exception()\n",
    "    else:\n",
    "        pass\n",
    "\n",
    "except:\n",
    "    # For Car number\n",
    "    if car_number == '':\n",
    "        print('\\n The car number field is required ')\n",
    "        \n",
    "    # for owner name\n",
    "    if cust_name == '':\n",
    "        print('\\n The owner name field is required')\n",
    "        \n",
    "    # for mobile number\n",
    "    if mobile  == '':\n",
    "        print('\\n The mobile number field is reqired')\n",
    "    \n",
    "# else part will excute only when there is no issue with try block\n",
    "else:\n",
    "    print('\\n thanks for all the details')\n",
    "    "
   ]
  },
  {
   "cell_type": "markdown",
   "id": "5d219ce9",
   "metadata": {},
   "source": [
    "### finally: block\n",
    "\n",
    "Now we don't actually need to memorize the list of exception types! Now what if we keep wanting to run code after the exception occured?This is where Finally comes in.\n",
    "the finally block of code will always be rum regardless if there was an exception in the try code block."
   ]
  },
  {
   "cell_type": "code",
   "execution_count": 2,
   "id": "9bea2f95",
   "metadata": {},
   "outputs": [
    {
     "name": "stdout",
     "output_type": "stream",
     "text": [
      "\n",
      " Enter the Car Number 787\n",
      "\n",
      " Enter the owner name  bdhk\n",
      "\n",
      " Enter the Mob. No. 5934\n",
      "\n",
      " In any case filnally block will excute\n"
     ]
    }
   ],
   "source": [
    "try:\n",
    "    car_number = input('\\n Enter the Car Number ')\n",
    "    cust_name = input('\\n Enter the owner name  ')\n",
    "    mobile = input('\\n Enter the Mob. No. ')\n",
    "    \n",
    "    if car_number == '':\n",
    "        raise Exception()\n",
    "    elif cust_name == '':\n",
    "        raise Exception()\n",
    "    elif mobile == '':\n",
    "        raise Exception()\n",
    "    else:\n",
    "        pass\n",
    "\n",
    "except:\n",
    "    # For Car number\n",
    "    if car_number == '':\n",
    "        print('\\n The car number field is required ')\n",
    "        \n",
    "    # for owner name\n",
    "    if cust_name == '':\n",
    "        print('\\n The owner name field is required')\n",
    "        \n",
    "    # for mobile number\n",
    "    if mobile  == '':\n",
    "        print('\\n The mobile number field is reqired')\n",
    "    \n",
    "# finally block excute all the time. \n",
    "finally:\n",
    "    print('\\n In any case filnally block will excute')"
   ]
  },
  {
   "cell_type": "code",
   "execution_count": 15,
   "id": "bd11e415",
   "metadata": {},
   "outputs": [],
   "source": [
    "def mobile_no():\n",
    "    try:\n",
    "        mob= int(input('Enter the mobile number '))\n",
    "    \n",
    "    except:\n",
    "        print('Look like you did not enter the integer number')\n",
    "    \n",
    "    print('You entered ', mob)"
   ]
  },
  {
   "cell_type": "code",
   "execution_count": 17,
   "id": "1deac7bf",
   "metadata": {},
   "outputs": [
    {
     "name": "stdout",
     "output_type": "stream",
     "text": [
      "Enter the mobile number ksdbd\n",
      "Look like you did not enter the integer number\n"
     ]
    },
    {
     "ename": "UnboundLocalError",
     "evalue": "local variable 'mob' referenced before assignment",
     "output_type": "error",
     "traceback": [
      "\u001b[1;31m---------------------------------------------------------------------------\u001b[0m",
      "\u001b[1;31mUnboundLocalError\u001b[0m                         Traceback (most recent call last)",
      "Input \u001b[1;32mIn [17]\u001b[0m, in \u001b[0;36m<cell line: 1>\u001b[1;34m()\u001b[0m\n\u001b[1;32m----> 1\u001b[0m \u001b[43mmobile_no\u001b[49m\u001b[43m(\u001b[49m\u001b[43m)\u001b[49m\n",
      "Input \u001b[1;32mIn [15]\u001b[0m, in \u001b[0;36mmobile_no\u001b[1;34m()\u001b[0m\n\u001b[0;32m      5\u001b[0m \u001b[38;5;28;01mexcept\u001b[39;00m:\n\u001b[0;32m      6\u001b[0m     \u001b[38;5;28mprint\u001b[39m(\u001b[38;5;124m'\u001b[39m\u001b[38;5;124mLook like you did not enter the integer number\u001b[39m\u001b[38;5;124m'\u001b[39m)\n\u001b[1;32m----> 8\u001b[0m \u001b[38;5;28mprint\u001b[39m(\u001b[38;5;124m'\u001b[39m\u001b[38;5;124mYou entered \u001b[39m\u001b[38;5;124m'\u001b[39m, \u001b[43mmob\u001b[49m)\n",
      "\u001b[1;31mUnboundLocalError\u001b[0m: local variable 'mob' referenced before assignment"
     ]
    }
   ],
   "source": [
    "mobile_no()"
   ]
  },
  {
   "cell_type": "markdown",
   "id": "5a6ff490",
   "metadata": {},
   "source": [
    "check how we got an error when trying to print mob(because it was properly assigned). Let's find the right solution by asking the user and ckecking to make sure the input type is an integer"
   ]
  },
  {
   "cell_type": "code",
   "execution_count": 18,
   "id": "0ee9758d",
   "metadata": {},
   "outputs": [],
   "source": [
    "x = 9889986790"
   ]
  },
  {
   "cell_type": "code",
   "execution_count": 19,
   "id": "e6d51752",
   "metadata": {},
   "outputs": [
    {
     "ename": "TypeError",
     "evalue": "object of type 'int' has no len()",
     "output_type": "error",
     "traceback": [
      "\u001b[1;31m---------------------------------------------------------------------------\u001b[0m",
      "\u001b[1;31mTypeError\u001b[0m                                 Traceback (most recent call last)",
      "Input \u001b[1;32mIn [19]\u001b[0m, in \u001b[0;36m<cell line: 1>\u001b[1;34m()\u001b[0m\n\u001b[1;32m----> 1\u001b[0m \u001b[38;5;28;43mlen\u001b[39;49m\u001b[43m(\u001b[49m\u001b[43mx\u001b[49m\u001b[43m)\u001b[49m\n",
      "\u001b[1;31mTypeError\u001b[0m: object of type 'int' has no len()"
     ]
    }
   ],
   "source": [
    "len(x)"
   ]
  },
  {
   "cell_type": "code",
   "execution_count": 20,
   "id": "54801641",
   "metadata": {},
   "outputs": [
    {
     "data": {
      "text/plain": [
       "10"
      ]
     },
     "execution_count": 20,
     "metadata": {},
     "output_type": "execute_result"
    }
   ],
   "source": [
    "len(str(x))"
   ]
  },
  {
   "cell_type": "code",
   "execution_count": 25,
   "id": "446d9014",
   "metadata": {},
   "outputs": [],
   "source": [
    "def mob_num():\n",
    "    \n",
    "    while True:\n",
    "        try:\n",
    "            mob= int(input('Enter the mobile Number  \\n')) # if it is not integer control will jump into the except block.\n",
    "            \n",
    "            if len(str(mob)) != 10:\n",
    "                print('\\n Mobile number must be 10 digit \\n')\n",
    "                continue\n",
    "            else:\n",
    "                print('\\n Thank You')\n",
    "                break\n",
    "        except:\n",
    "            print('\\n Look like you did not enter an integer! \\n')\n",
    "            continue\n",
    "\n"
   ]
  },
  {
   "cell_type": "code",
   "execution_count": 26,
   "id": "afca488f",
   "metadata": {},
   "outputs": [
    {
     "name": "stdout",
     "output_type": "stream",
     "text": [
      "Enter the mobile Number  \n",
      "kljljl\n",
      "Look like you did not enter an integer \n",
      "\n",
      "Enter the mobile Number  \n",
      "955\n",
      "\n",
      " Mobile number must be 10 digit \n",
      "\n",
      "Enter the mobile Number  \n",
      "98989895952\n",
      "\n",
      " Mobile number must be 10 digit \n",
      "\n",
      "Enter the mobile Number  \n",
      "9874563214\n",
      "\n",
      " Thank You\n"
     ]
    }
   ],
   "source": [
    "mob_num()"
   ]
  },
  {
   "cell_type": "code",
   "execution_count": null,
   "id": "d844e6cf",
   "metadata": {},
   "outputs": [],
   "source": []
  }
 ],
 "metadata": {
  "kernelspec": {
   "display_name": "Python 3 (ipykernel)",
   "language": "python",
   "name": "python3"
  },
  "language_info": {
   "codemirror_mode": {
    "name": "ipython",
    "version": 3
   },
   "file_extension": ".py",
   "mimetype": "text/x-python",
   "name": "python",
   "nbconvert_exporter": "python",
   "pygments_lexer": "ipython3",
   "version": "3.9.12"
  }
 },
 "nbformat": 4,
 "nbformat_minor": 5
}
