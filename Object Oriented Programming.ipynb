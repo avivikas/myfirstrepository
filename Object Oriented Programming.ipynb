{
 "cells": [
  {
   "cell_type": "markdown",
   "id": "396416eb",
   "metadata": {},
   "source": [
    "###  Object Oriened Programming\n",
    "Objects are entities that represent instances of a general abstract concept called class. In Python, \"attributes\" are the variable defining an object state and the possble action are called \"methods\" \n",
    "\n",
    "### 1- class\n",
    "class namesshould always be uppercase(it is naming convention)\n",
    "\n",
    "syn- \n",
    "   class ClassName(base_classes):\n",
    "        \n",
    "        statements      \n",
    "\n",
    "#### __init__(self,)\n",
    "\n",
    "__init__(self,...) will register/initialize your detail with google.\n",
    "\n",
    "self will help you to get your respective details back when you click different tabs."
   ]
  },
  {
   "cell_type": "code",
   "execution_count": 31,
   "id": "c7fd9d4a",
   "metadata": {},
   "outputs": [
    {
     "name": "stdout",
     "output_type": "stream",
     "text": [
      "Enetr your first name  Aarti\n",
      "Enter your last name  sharma\n",
      "Enter your age  30\n",
      "Enter your user_id  vs\n",
      "Enter your passward  as\n"
     ]
    }
   ],
   "source": [
    "class Account:\n",
    "    def __init__(self, first_name = input('Enetr your first name  '),\n",
    "                       last_name  = input('Enter your last name  '),\n",
    "                       age        = int(input('Enter your age  ')),\n",
    "                       user_id    = input('Enter your user_id  '),\n",
    "                       passward   = input('Enter your passward  ')): #attributes/arguments\n",
    "        \n",
    "        #initialization\n",
    "        self.first_name = first_name\n",
    "        self.last_name  = last_name\n",
    "        self.age        = age\n",
    "        self.user_id    = user_id\n",
    "        self.passward   = passward\n",
    "    \n",
    "    def login(self):\n",
    "        while True:\n",
    "            signin = input('Enter your user_id  ')\n",
    "            passward = input('Enter your passward  ')\n",
    "            if signin == self.user_id and passward == self.passward:\n",
    "                print('Successfully login')\n",
    "                break\n",
    "            else:\n",
    "                print('User_id or passward is invalid')\n",
    "                continue"
   ]
  },
  {
   "cell_type": "code",
   "execution_count": 32,
   "id": "6324b8ce",
   "metadata": {},
   "outputs": [],
   "source": [
    "# instantiating a class and create an object for the class. Here bank is an object for class Account\n",
    "bank = Account()"
   ]
  },
  {
   "cell_type": "code",
   "execution_count": 33,
   "id": "4c239748",
   "metadata": {},
   "outputs": [
    {
     "name": "stdout",
     "output_type": "stream",
     "text": [
      "Enter your user_id  dr\n",
      "Enter your passward  as\n",
      "User_id or passward is invalid\n",
      "Enter your user_id  vs\n",
      "Enter your passward  fg\n",
      "User_id or passward is invalid\n",
      "Enter your user_id  vs\n",
      "Enter your passward  as\n",
      "Successfully login\n"
     ]
    }
   ],
   "source": [
    "# calling methods\n",
    "bank.login()"
   ]
  },
  {
   "cell_type": "markdown",
   "id": "d5834f64",
   "metadata": {},
   "source": [
    "### 2- Inheritance\n",
    "\n",
    "In inheritance we need to copy properties of old class and add new properties or attributes and create new virsion of class that means we can say a new class inherit the properties or attributes of the old class. "
   ]
  },
  {
   "cell_type": "code",
   "execution_count": 34,
   "id": "e7ee4ce6",
   "metadata": {},
   "outputs": [],
   "source": [
    "class User_Account(Account):\n",
    "    \n",
    "    def __init__(self, acc_number, balance, *args):\n",
    "        super(User_Account, self).__init__(*args)\n",
    "        self.acc_number = acc_number\n",
    "        self.balance = balance\n",
    "    \n",
    "    def user_details(self):\n",
    "        while True:\n",
    "            account = int(input('Enter the account numer'))\n",
    "            if account == self.acc_number:\n",
    "                print('Name = ', self.first_name)\n",
    "                print('Age = ', self.age)\n",
    "                print('Account Number = ', self.acc_number)\n",
    "                print('Your balance = ', self.balance)\n",
    "                break\n",
    "            else:\n",
    "                print('You entered wrong account number')\n",
    "    \n",
    "    def deposite(self):\n",
    "        print('Your previous Balance is = ', self.balance)\n",
    "        add_cash = int(input('Deposite Cash = '))\n",
    "        self.balance += add_cash\n",
    "        print('SBI Bank Rs. ',add_cash, 'deposite to your Account No ', self.acc_number, \n",
    "              'and Your Current Account number is ', self.balance)\n",
    "        \n",
    "    def withdrawal(self):\n",
    "        print('Your previous Balance is = ', self.balance)\n",
    "                \n",
    "        withdraw = int(input('How much you want to withdrawal = '))\n",
    "        if withdraw <= self.balance: \n",
    "            self.balance -= withdraw\n",
    "            print('SBI Bank Rs. ',withdraw, 'withdrawn from your Account No ', self.acc_number, \n",
    "              'and Your Current Account number is ', self.balance)\n",
    "        else:\n",
    "            print(\"\\n Alert: Helloooo Boss, You don't have sufficient balance\")                          \n",
    "        \n",
    "        \n",
    "        "
   ]
  },
  {
   "cell_type": "code",
   "execution_count": 35,
   "id": "b63c543a",
   "metadata": {},
   "outputs": [],
   "source": [
    "bank_details = User_Account(12345,0)"
   ]
  },
  {
   "cell_type": "code",
   "execution_count": 36,
   "id": "50c0072d",
   "metadata": {},
   "outputs": [
    {
     "name": "stdout",
     "output_type": "stream",
     "text": [
      "Enter your user_id  vs\n",
      "Enter your passward  as\n",
      "Successfully login\n"
     ]
    }
   ],
   "source": [
    "bank_details.login()"
   ]
  },
  {
   "cell_type": "code",
   "execution_count": 37,
   "id": "0bb937c6",
   "metadata": {},
   "outputs": [
    {
     "name": "stdout",
     "output_type": "stream",
     "text": [
      "Enter the account numer25461\n",
      "You entered wrong account number\n",
      "Enter the account numer12345\n",
      "Name =  Aarti\n",
      "Age =  30\n",
      "Account Number =  12345\n",
      "Your balance =  0\n"
     ]
    }
   ],
   "source": [
    "bank_details.user_details()"
   ]
  },
  {
   "cell_type": "code",
   "execution_count": 39,
   "id": "80b77a24",
   "metadata": {},
   "outputs": [
    {
     "name": "stdout",
     "output_type": "stream",
     "text": [
      "Your previous Balance is =  5000\n",
      "Deposite Cash = 3000\n",
      "SBI Bank Rs.  3000 deposite to your Account No  12345 and Your Current Account number is  8000\n"
     ]
    }
   ],
   "source": [
    "bank_details.deposite()"
   ]
  },
  {
   "cell_type": "code",
   "execution_count": 40,
   "id": "6f495294",
   "metadata": {},
   "outputs": [
    {
     "name": "stdout",
     "output_type": "stream",
     "text": [
      "Your previous Balance is =  8000\n",
      "How much you want to withdrawal = 1000\n",
      "SBI Bank Rs.  1000 withdrawn from your Account No  12345 and Your Current Account number is  7000\n"
     ]
    }
   ],
   "source": [
    "bank_details.withdrawal()"
   ]
  },
  {
   "cell_type": "markdown",
   "id": "a12884b7",
   "metadata": {},
   "source": [
    "### Encapsulation\n",
    "\n",
    "Encapsulation is an another powerful way to extend a class which consists on wrapping an object withsecond one."
   ]
  },
  {
   "cell_type": "code",
   "execution_count": 6,
   "id": "4e08773f",
   "metadata": {},
   "outputs": [
    {
     "name": "stdout",
     "output_type": "stream",
     "text": [
      "Tyres: \n",
      " \tBranch: MRF\n",
      " \tBelted -bias: True\n",
      " \tOptimal Pressure: 34\n",
      "Engine: \n",
      " \tFuel_Type: Petrol\n",
      " \tNoise Level: 2.3\n",
      "Body: \n",
      " \tSize: SUV\n"
     ]
    }
   ],
   "source": [
    "class Tyre:\n",
    "    def __init__(self, branch, belted_bias, opt_pressure):\n",
    "        self.branch = branch\n",
    "        self.belted_bias = belted_bias\n",
    "        self.opt_pressure = opt_pressure\n",
    "        \n",
    "    def __str__(self):             # __str__ can be used if you don want to define a method name but you want this to excute.\n",
    "        return (\"Tyres: \\n \\tBranch: \" + self.branch +\n",
    "               \"\\n \\tBelted-bias: \" + str(self.belted_bias) +   # __str__ returns only text so we are converting into string\n",
    "               \"\\n \\tOptimal Pressure: \" + str(self.opt_pressure))\n",
    "    \n",
    "\n",
    "class Engine:\n",
    "    def __init__(self, fuel_type, noise_level):\n",
    "        self.fuel_type = fuel_type\n",
    "        self.noise_level = noise_level\n",
    "\n",
    "    def __str__(self):\n",
    "        return (\"Engine: \\n \\tFuel_Type: \" + self.fuel_type +\n",
    "                \"\\n \\tNoise Level: \"+ str(self.noise_level))\n",
    "\n",
    "class Body:\n",
    "    def __init__(self, size):\n",
    "        self.size =size\n",
    "\n",
    "    def __str__(self):\n",
    "        return (\"Body: \\n \\tSize: \" + self.size)\n",
    "\n",
    "class Car:\n",
    "    def __init__(self, tyre, engine, body):\n",
    "        self.tyre = tyre\n",
    "        self.engine = engine\n",
    "        self.body = body\n",
    "    \n",
    "    def __str__(self):\n",
    "        return str(self.tyre) + '\\n' + str(self.engine) + '\\n' + str(self.body)\n",
    "    \n",
    "t=Tyre('MRF', True, 34)\n",
    "e=Engine('Petrol', 2.3)\n",
    "b=Body('SUV')\n",
    "\n",
    "c= Car(t, e, b)\n",
    "print(c)\n",
    "\n"
   ]
  },
  {
   "cell_type": "code",
   "execution_count": null,
   "id": "869a0a41",
   "metadata": {},
   "outputs": [],
   "source": []
  }
 ],
 "metadata": {
  "kernelspec": {
   "display_name": "Python 3 (ipykernel)",
   "language": "python",
   "name": "python3"
  },
  "language_info": {
   "codemirror_mode": {
    "name": "ipython",
    "version": 3
   },
   "file_extension": ".py",
   "mimetype": "text/x-python",
   "name": "python",
   "nbconvert_exporter": "python",
   "pygments_lexer": "ipython3",
   "version": "3.9.12"
  }
 },
 "nbformat": 4,
 "nbformat_minor": 5
}
