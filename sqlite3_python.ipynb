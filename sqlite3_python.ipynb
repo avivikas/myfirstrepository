{
 "cells": [
  {
   "cell_type": "code",
   "execution_count": 1,
   "id": "39e2d103",
   "metadata": {},
   "outputs": [],
   "source": [
    "#!/usr/bin/python\n",
    "\n",
    "import sqlite3\n",
    "\n",
    "# connecting with the database(if there is no database exist, It will create one).\n",
    "db = sqlite3.connect(\"student_database.db\")"
   ]
  },
  {
   "cell_type": "code",
   "execution_count": 2,
   "id": "1016b0d6",
   "metadata": {},
   "outputs": [],
   "source": [
    "# Declare cursor\n",
    "cursor = db.cursor()"
   ]
  },
  {
   "cell_type": "code",
   "execution_count": null,
   "id": "34aa60ab",
   "metadata": {},
   "outputs": [],
   "source": [
    "# Create table\n",
    "cursor.execute(\"create table student_data(phone_no INT Primary Key, email_id TEXT, Course_name TEXT, Fee_paid INT)\")"
   ]
  },
  {
   "cell_type": "code",
   "execution_count": 7,
   "id": "43c231fa",
   "metadata": {},
   "outputs": [
    {
     "name": "stdout",
     "output_type": "stream",
     "text": [
      "1 Record(s) inserted\n"
     ]
    }
   ],
   "source": [
    "# insert records into the table \n",
    "cursor.execute(\"Insert into student_data(phone_no, email_id, Course_name, Fee_paid) values (9805585458, 'amar@gmail.com', 'data science', 55000)\")\n",
    "\n",
    "# save the records permanently.(If you don't commit, next time you will not see the records in the table)\n",
    "db.commit()\n",
    "\n",
    "# count the records inserted\n",
    "print(cursor.rowcount, \"Record(s) inserted\")"
   ]
  },
  {
   "cell_type": "markdown",
   "id": "29452845",
   "metadata": {},
   "source": [
    "### SELECT query - How to fetch records from the table"
   ]
  },
  {
   "cell_type": "code",
   "execution_count": 8,
   "id": "7f674e7e",
   "metadata": {},
   "outputs": [
    {
     "name": "stdout",
     "output_type": "stream",
     "text": [
      "1 Record(s) inserted\n"
     ]
    }
   ],
   "source": [
    "# insert records into the table \n",
    "cursor.execute(\"Insert into student_data(phone_no, email_id, Course_name, Fee_paid) values (9805585451, 'rahul@gmail.com', 'data science', 55000)\")\n",
    "\n",
    "# save the records permanently.(If you don't commit, next time you will not see the records in the table)\n",
    "db.commit()\n",
    "\n",
    "# count the records inserted\n",
    "print(cursor.rowcount, \"Record(s) inserted\")"
   ]
  },
  {
   "cell_type": "code",
   "execution_count": 10,
   "id": "c5800598",
   "metadata": {},
   "outputs": [
    {
     "name": "stdout",
     "output_type": "stream",
     "text": [
      "(9889585458, 'marc@gmail.com', 'data science', 55000)\n",
      "(9805585458, 'amar@gmail.com', 'data science', 55000)\n",
      "(9805585451, 'rahul@gmail.com', 'data science', 55000)\n"
     ]
    }
   ],
   "source": [
    "result= cursor.execute(\"SELECT * FROM student_data\")\n",
    "for row in result:\n",
    "    print(row)"
   ]
  },
  {
   "cell_type": "code",
   "execution_count": 16,
   "id": "c13650d9",
   "metadata": {},
   "outputs": [
    {
     "name": "stdout",
     "output_type": "stream",
     "text": [
      "1 Record(s) inserted\n"
     ]
    }
   ],
   "source": [
    "cursor.execute(\"insert into student_data values(9889986798, 'littleone@gmail.com','cloud software',58000)\")\n",
    "db.commit()\n",
    "\n",
    "print(cursor.rowcount, \"Record(s) inserted\")"
   ]
  },
  {
   "cell_type": "code",
   "execution_count": 17,
   "id": "45471f2d",
   "metadata": {},
   "outputs": [
    {
     "name": "stdout",
     "output_type": "stream",
     "text": [
      "2 Record(s) inserted\n"
     ]
    }
   ],
   "source": [
    "# multiple records insertion\n",
    "cursor.execute(\"insert into student_data values(9889986584, 'theone@gmail.com','cloud architect',60000),(9889747744, 'mlb@gmail.com','data science',60000)\")\n",
    "db.commit()\n",
    "\n",
    "print(cursor.rowcount, \"Record(s) inserted\") "
   ]
  },
  {
   "cell_type": "code",
   "execution_count": 18,
   "id": "be437115",
   "metadata": {},
   "outputs": [
    {
     "name": "stdout",
     "output_type": "stream",
     "text": [
      "(9889585458, 'marc@gmail.com', 'data science', 55000)\n",
      "(9805585458, 'amar@gmail.com', 'data science', 55000)\n",
      "(9805585451, 'rahul@gmail.com', 'data science', 55000)\n",
      "(9889986798, 'littleone@gmail.com', 'cloud software', 58000)\n",
      "(9889986584, 'theone@gmail.com', 'cloud architect', 60000)\n",
      "(9889747744, 'mlb@gmail.com', 'data science', 60000)\n"
     ]
    }
   ],
   "source": [
    "result= cursor.execute(\"SELECT * FROM student_data\")\n",
    "for row in result:\n",
    "    print(row)"
   ]
  },
  {
   "cell_type": "markdown",
   "id": "47ae89b7",
   "metadata": {},
   "source": [
    "### How to load data from file into table\n",
    "\n",
    "Note :- keep csv file the same folder where your jupyter notebook is provide folderlink. You cannot open file directly from github\n",
    "\n",
    "https://github.com/training-ml/Files  - this is the link from where we access the data science materials"
   ]
  },
  {
   "cell_type": "code",
   "execution_count": 19,
   "id": "149a8c7d",
   "metadata": {},
   "outputs": [
    {
     "name": "stdout",
     "output_type": "stream",
     "text": [
      "20 Record(s) Inserted\n"
     ]
    }
   ],
   "source": [
    "with open('DT_Students.csv','r') as file:\n",
    "    no_record =0\n",
    "    for row in file:\n",
    "        cursor.execute(\"insert into student_data values ( ?, ?, ?, ?)\",row.split(\",\"))\n",
    "        db.commit()\n",
    "        no_record +=1\n",
    "print(no_record, \"Record(s) Inserted\")"
   ]
  },
  {
   "cell_type": "code",
   "execution_count": 20,
   "id": "931bd6f6",
   "metadata": {},
   "outputs": [
    {
     "name": "stdout",
     "output_type": "stream",
     "text": [
      "(9889585458, 'marc@gmail.com', 'data science', 55000)\n",
      "(9805585458, 'amar@gmail.com', 'data science', 55000)\n",
      "(9805585451, 'rahul@gmail.com', 'data science', 55000)\n",
      "(9889986798, 'littleone@gmail.com', 'cloud software', 58000)\n",
      "(9889986584, 'theone@gmail.com', 'cloud architect', 60000)\n",
      "(9889747744, 'mlb@gmail.com', 'data science', 60000)\n",
      "(9988776604, 'student4@gmail.com', 'Digital Marketing', 38000)\n",
      "(9988776605, 'student5@gmail.com', 'Data Science', 133000)\n",
      "(9988776606, 'student6@gmail.com', 'Data Science', 34000)\n",
      "(9988776607, 'student7@gmail.com', 'Data Science', 33000)\n",
      "(9988776608, 'student8@gmail.com', 'Data Science', 129000)\n",
      "(9988776609, 'student9@gmail.com', 'Data Science', 40000)\n",
      "(9988776610, 'student10@gmail.com', 'Data Analytics', 32500)\n",
      "(9988776611, 'student11@gmail.com', 'Data Science', 41500)\n",
      "(9988776612, 'student12@gmail.com', 'Digital Marketing', 31000)\n",
      "(9988776613, 'student13@gmail.com', 'Digital Marketing', 23000)\n",
      "(9988776614, 'student14@gmail.com', 'Data Science', 24000)\n",
      "(9988776615, 'student15@gmail.com', 'Data Science', 23000)\n",
      "(9988776616, 'student16@gmail.com', 'Data Science', 122500)\n",
      "(9988776617, 'student17@gmail.com', 'Data Science', 29000)\n",
      "(9988776618, 'student18@gmail.com', 'Data Science', 140000)\n",
      "(9988776619, 'student19@gmail.com', 'Data Analytics', 32500)\n",
      "(9988776620, 'student20@gmail.com', 'Inv Banking', 41500)\n",
      "(9988776621, 'student21@gmail.com', 'Data Science', 131000)\n",
      "(9988776622, 'student22@gmail.com', 'Data Science', 23000)\n",
      "(9988776623, 'student23@gmail.com', 'Data Science', 24000)\n"
     ]
    }
   ],
   "source": [
    "result= cursor.execute(\"SELECT * FROM student_data\")\n",
    "for row in result:\n",
    "    print(row)"
   ]
  },
  {
   "cell_type": "markdown",
   "id": "14676c39",
   "metadata": {},
   "source": [
    "### where clause - select records based on condition"
   ]
  },
  {
   "cell_type": "code",
   "execution_count": 23,
   "id": "a81432bb",
   "metadata": {},
   "outputs": [
    {
     "name": "stdout",
     "output_type": "stream",
     "text": [
      "(9889585458, 'marc@gmail.com', 'data science', 55000)\n",
      "(9805585458, 'amar@gmail.com', 'data science', 55000)\n",
      "(9805585451, 'rahul@gmail.com', 'data science', 55000)\n",
      "(9889747744, 'mlb@gmail.com', 'data science', 60000)\n",
      "(9988776605, 'student5@gmail.com', 'Data Science', 133000)\n",
      "(9988776606, 'student6@gmail.com', 'Data Science', 34000)\n",
      "(9988776607, 'student7@gmail.com', 'Data Science', 33000)\n",
      "(9988776608, 'student8@gmail.com', 'Data Science', 129000)\n",
      "(9988776609, 'student9@gmail.com', 'Data Science', 40000)\n",
      "(9988776611, 'student11@gmail.com', 'Data Science', 41500)\n",
      "(9988776614, 'student14@gmail.com', 'Data Science', 24000)\n",
      "(9988776615, 'student15@gmail.com', 'Data Science', 23000)\n",
      "(9988776616, 'student16@gmail.com', 'Data Science', 122500)\n",
      "(9988776617, 'student17@gmail.com', 'Data Science', 29000)\n",
      "(9988776618, 'student18@gmail.com', 'Data Science', 140000)\n",
      "(9988776621, 'student21@gmail.com', 'Data Science', 131000)\n",
      "(9988776622, 'student22@gmail.com', 'Data Science', 23000)\n",
      "(9988776623, 'student23@gmail.com', 'Data Science', 24000)\n"
     ]
    }
   ],
   "source": [
    "sql = \"Select * from student_data WHERE course_name = 'Data Science' or course_name = 'data science'\"\n",
    "result = cursor.execute(sql)\n",
    "for row in result:\n",
    "    print(row)"
   ]
  },
  {
   "cell_type": "code",
   "execution_count": 24,
   "id": "4369551c",
   "metadata": {},
   "outputs": [
    {
     "name": "stdout",
     "output_type": "stream",
     "text": [
      "(9889585458, 'marc@gmail.com', 'data science', 55000)\n",
      "(9805585458, 'amar@gmail.com', 'data science', 55000)\n",
      "(9805585451, 'rahul@gmail.com', 'data science', 55000)\n",
      "(9889986798, 'littleone@gmail.com', 'cloud software', 58000)\n",
      "(9889986584, 'theone@gmail.com', 'cloud architect', 60000)\n",
      "(9889747744, 'mlb@gmail.com', 'data science', 60000)\n",
      "(9988776605, 'student5@gmail.com', 'Data Science', 133000)\n",
      "(9988776608, 'student8@gmail.com', 'Data Science', 129000)\n",
      "(9988776616, 'student16@gmail.com', 'Data Science', 122500)\n",
      "(9988776618, 'student18@gmail.com', 'Data Science', 140000)\n",
      "(9988776621, 'student21@gmail.com', 'Data Science', 131000)\n"
     ]
    }
   ],
   "source": [
    "sql = \"Select * from student_data WHERE fee_paid >= 50000 \"\n",
    "result = cursor.execute(sql)\n",
    "for row in result:\n",
    "    print(row)"
   ]
  },
  {
   "cell_type": "markdown",
   "id": "0025acd5",
   "metadata": {},
   "source": [
    "### DELETE record - how to delete unwanted records.\n",
    "Usually developer/Data Scientists are not authorized to delete any records from the table. Database Admin does this kind of tasks"
   ]
  },
  {
   "cell_type": "code",
   "execution_count": 25,
   "id": "8249ccfe",
   "metadata": {},
   "outputs": [],
   "source": [
    "sql = \"DELETE from student_data WHERE phone_no = 9889585458 \"\n",
    "\n",
    "result = cursor.execute(sql)\n",
    "db.commit()"
   ]
  },
  {
   "cell_type": "code",
   "execution_count": 26,
   "id": "37dab72f",
   "metadata": {},
   "outputs": [
    {
     "name": "stdout",
     "output_type": "stream",
     "text": [
      "(9805585458, 'amar@gmail.com', 'data science', 55000)\n",
      "(9805585451, 'rahul@gmail.com', 'data science', 55000)\n",
      "(9889986798, 'littleone@gmail.com', 'cloud software', 58000)\n",
      "(9889986584, 'theone@gmail.com', 'cloud architect', 60000)\n",
      "(9889747744, 'mlb@gmail.com', 'data science', 60000)\n",
      "(9988776604, 'student4@gmail.com', 'Digital Marketing', 38000)\n",
      "(9988776605, 'student5@gmail.com', 'Data Science', 133000)\n",
      "(9988776606, 'student6@gmail.com', 'Data Science', 34000)\n",
      "(9988776607, 'student7@gmail.com', 'Data Science', 33000)\n",
      "(9988776608, 'student8@gmail.com', 'Data Science', 129000)\n",
      "(9988776609, 'student9@gmail.com', 'Data Science', 40000)\n",
      "(9988776610, 'student10@gmail.com', 'Data Analytics', 32500)\n",
      "(9988776611, 'student11@gmail.com', 'Data Science', 41500)\n",
      "(9988776612, 'student12@gmail.com', 'Digital Marketing', 31000)\n",
      "(9988776613, 'student13@gmail.com', 'Digital Marketing', 23000)\n",
      "(9988776614, 'student14@gmail.com', 'Data Science', 24000)\n",
      "(9988776615, 'student15@gmail.com', 'Data Science', 23000)\n",
      "(9988776616, 'student16@gmail.com', 'Data Science', 122500)\n",
      "(9988776617, 'student17@gmail.com', 'Data Science', 29000)\n",
      "(9988776618, 'student18@gmail.com', 'Data Science', 140000)\n",
      "(9988776619, 'student19@gmail.com', 'Data Analytics', 32500)\n",
      "(9988776620, 'student20@gmail.com', 'Inv Banking', 41500)\n",
      "(9988776621, 'student21@gmail.com', 'Data Science', 131000)\n",
      "(9988776622, 'student22@gmail.com', 'Data Science', 23000)\n",
      "(9988776623, 'student23@gmail.com', 'Data Science', 24000)\n"
     ]
    }
   ],
   "source": [
    "result= cursor.execute(\"SELECT * FROM student_data\")\n",
    "for row in result:\n",
    "    print(row)"
   ]
  },
  {
   "cell_type": "code",
   "execution_count": 29,
   "id": "c40639ef",
   "metadata": {},
   "outputs": [
    {
     "name": "stdout",
     "output_type": "stream",
     "text": [
      "(9805585458, 'amar@gmail.com', 'data science', 55000)\n",
      "(9805585451, 'rahul@gmail.com', 'data science', 55000)\n",
      "(9889986798, 'littleone@gmail.com', 'cloud software', 58000)\n",
      "(9889986584, 'theone@gmail.com', 'cloud architect', 60000)\n",
      "(9889747744, 'mlb@gmail.com', 'data science', 60000)\n",
      "(9988776604, 'student4@gmail.com', 'Digital Marketing', 38000)\n",
      "(9988776605, 'student5@gmail.com', 'Data Science', 133000)\n",
      "(9988776606, 'student6@gmail.com', 'Data Science', 34000)\n",
      "(9988776607, 'student7@gmail.com', 'Data Science', 33000)\n",
      "(9988776608, 'student8@gmail.com', 'Data Science', 129000)\n",
      "(9988776609, 'student9@gmail.com', 'Data Science', 40000)\n",
      "(9988776610, 'student10@gmail.com', 'Data Analytics', 32500)\n",
      "(9988776611, 'student11@gmail.com', 'Data Science', 41500)\n",
      "(9988776612, 'student12@gmail.com', 'Digital Marketing', 31000)\n",
      "(9988776613, 'student13@gmail.com', 'Digital Marketing', 23000)\n",
      "(9988776614, 'student14@gmail.com', 'Data Science', 24000)\n",
      "(9988776615, 'student15@gmail.com', 'Data Science', 23000)\n",
      "(9988776616, 'student16@gmail.com', 'Data Science', 122500)\n",
      "(9988776617, 'student17@gmail.com', 'Data Science', 29000)\n",
      "(9988776618, 'student18@gmail.com', 'Data Science', 140000)\n",
      "(9988776619, 'student19@gmail.com', 'Data Analytics', 32500)\n",
      "(9988776620, 'student20@gmail.com', 'Inv Banking', 41500)\n",
      "(9988776621, 'student21@gmail.com', 'Data Science', 131000)\n",
      "(9988776622, 'student22@gmail.com', 'Data Science', 23000)\n",
      "(9988776623, 'student23@gmail.com', 'Data Science', 24000)\n"
     ]
    }
   ],
   "source": [
    "sql = \"Select * from student_data\"\n",
    "result = cursor.execute(sql)\n",
    "for row in result:\n",
    "    print(row)"
   ]
  },
  {
   "cell_type": "code",
   "execution_count": 31,
   "id": "8c0f7d97",
   "metadata": {},
   "outputs": [],
   "source": [
    "sql = \"DELETE from student_data WHERE course_name = 'data science' \"\n",
    "\n",
    "result = cursor.execute(sql)\n",
    "db.commit()"
   ]
  },
  {
   "cell_type": "code",
   "execution_count": 32,
   "id": "38a1f46f",
   "metadata": {},
   "outputs": [
    {
     "name": "stdout",
     "output_type": "stream",
     "text": [
      "(9889986798, 'littleone@gmail.com', 'cloud software', 58000)\n",
      "(9889986584, 'theone@gmail.com', 'cloud architect', 60000)\n",
      "(9988776604, 'student4@gmail.com', 'Digital Marketing', 38000)\n",
      "(9988776605, 'student5@gmail.com', 'Data Science', 133000)\n",
      "(9988776606, 'student6@gmail.com', 'Data Science', 34000)\n",
      "(9988776607, 'student7@gmail.com', 'Data Science', 33000)\n",
      "(9988776608, 'student8@gmail.com', 'Data Science', 129000)\n",
      "(9988776609, 'student9@gmail.com', 'Data Science', 40000)\n",
      "(9988776610, 'student10@gmail.com', 'Data Analytics', 32500)\n",
      "(9988776611, 'student11@gmail.com', 'Data Science', 41500)\n",
      "(9988776612, 'student12@gmail.com', 'Digital Marketing', 31000)\n",
      "(9988776613, 'student13@gmail.com', 'Digital Marketing', 23000)\n",
      "(9988776614, 'student14@gmail.com', 'Data Science', 24000)\n",
      "(9988776615, 'student15@gmail.com', 'Data Science', 23000)\n",
      "(9988776616, 'student16@gmail.com', 'Data Science', 122500)\n",
      "(9988776617, 'student17@gmail.com', 'Data Science', 29000)\n",
      "(9988776618, 'student18@gmail.com', 'Data Science', 140000)\n",
      "(9988776619, 'student19@gmail.com', 'Data Analytics', 32500)\n",
      "(9988776620, 'student20@gmail.com', 'Inv Banking', 41500)\n",
      "(9988776621, 'student21@gmail.com', 'Data Science', 131000)\n",
      "(9988776622, 'student22@gmail.com', 'Data Science', 23000)\n",
      "(9988776623, 'student23@gmail.com', 'Data Science', 24000)\n"
     ]
    }
   ],
   "source": [
    "result= cursor.execute(\"SELECT * FROM student_data\")\n",
    "for row in result:\n",
    "    print(row)"
   ]
  },
  {
   "cell_type": "markdown",
   "id": "b4a46ff5",
   "metadata": {},
   "source": [
    "### ORDER BY"
   ]
  },
  {
   "cell_type": "code",
   "execution_count": 37,
   "id": "9e572090",
   "metadata": {},
   "outputs": [
    {
     "name": "stdout",
     "output_type": "stream",
     "text": [
      "(9988776613, 'student13@gmail.com', 'Digital Marketing', 23000)\n",
      "(9988776615, 'student15@gmail.com', 'Data Science', 23000)\n",
      "(9988776622, 'student22@gmail.com', 'Data Science', 23000)\n",
      "(9988776614, 'student14@gmail.com', 'Data Science', 24000)\n",
      "(9988776623, 'student23@gmail.com', 'Data Science', 24000)\n",
      "(9988776617, 'student17@gmail.com', 'Data Science', 29000)\n",
      "(9988776612, 'student12@gmail.com', 'Digital Marketing', 31000)\n",
      "(9988776610, 'student10@gmail.com', 'Data Analytics', 32500)\n",
      "(9988776619, 'student19@gmail.com', 'Data Analytics', 32500)\n",
      "(9988776607, 'student7@gmail.com', 'Data Science', 33000)\n",
      "(9988776606, 'student6@gmail.com', 'Data Science', 34000)\n",
      "(9988776604, 'student4@gmail.com', 'Digital Marketing', 38000)\n",
      "(9988776609, 'student9@gmail.com', 'Data Science', 40000)\n",
      "(9988776611, 'student11@gmail.com', 'Data Science', 41500)\n",
      "(9988776620, 'student20@gmail.com', 'Inv Banking', 41500)\n",
      "(9889986798, 'littleone@gmail.com', 'cloud software', 58000)\n",
      "(9889986584, 'theone@gmail.com', 'cloud architect', 60000)\n",
      "(9988776616, 'student16@gmail.com', 'Data Science', 122500)\n",
      "(9988776608, 'student8@gmail.com', 'Data Science', 129000)\n",
      "(9988776621, 'student21@gmail.com', 'Data Science', 131000)\n",
      "(9988776605, 'student5@gmail.com', 'Data Science', 133000)\n",
      "(9988776618, 'student18@gmail.com', 'Data Science', 140000)\n"
     ]
    }
   ],
   "source": [
    "# How to change the order of record (Increasing or decreasing)\n",
    "result= cursor.execute(\"SELECT * FROM student_data order by fee_paid\")\n",
    "for row in result:\n",
    "    print(row)"
   ]
  },
  {
   "cell_type": "code",
   "execution_count": 38,
   "id": "9cf1fd64",
   "metadata": {},
   "outputs": [
    {
     "name": "stdout",
     "output_type": "stream",
     "text": [
      "(9988776618, 'student18@gmail.com', 'Data Science', 140000)\n",
      "(9988776605, 'student5@gmail.com', 'Data Science', 133000)\n",
      "(9988776621, 'student21@gmail.com', 'Data Science', 131000)\n",
      "(9988776608, 'student8@gmail.com', 'Data Science', 129000)\n",
      "(9988776616, 'student16@gmail.com', 'Data Science', 122500)\n",
      "(9889986584, 'theone@gmail.com', 'cloud architect', 60000)\n",
      "(9889986798, 'littleone@gmail.com', 'cloud software', 58000)\n",
      "(9988776611, 'student11@gmail.com', 'Data Science', 41500)\n",
      "(9988776620, 'student20@gmail.com', 'Inv Banking', 41500)\n",
      "(9988776609, 'student9@gmail.com', 'Data Science', 40000)\n",
      "(9988776604, 'student4@gmail.com', 'Digital Marketing', 38000)\n",
      "(9988776606, 'student6@gmail.com', 'Data Science', 34000)\n",
      "(9988776607, 'student7@gmail.com', 'Data Science', 33000)\n",
      "(9988776610, 'student10@gmail.com', 'Data Analytics', 32500)\n",
      "(9988776619, 'student19@gmail.com', 'Data Analytics', 32500)\n",
      "(9988776612, 'student12@gmail.com', 'Digital Marketing', 31000)\n",
      "(9988776617, 'student17@gmail.com', 'Data Science', 29000)\n",
      "(9988776614, 'student14@gmail.com', 'Data Science', 24000)\n",
      "(9988776623, 'student23@gmail.com', 'Data Science', 24000)\n",
      "(9988776613, 'student13@gmail.com', 'Digital Marketing', 23000)\n",
      "(9988776615, 'student15@gmail.com', 'Data Science', 23000)\n",
      "(9988776622, 'student22@gmail.com', 'Data Science', 23000)\n"
     ]
    }
   ],
   "source": [
    "result= cursor.execute(\"SELECT * FROM student_data order by fee_paid desc\")\n",
    "for row in result:\n",
    "    print(row)"
   ]
  },
  {
   "cell_type": "markdown",
   "id": "3430e273",
   "metadata": {},
   "source": [
    "### UPDATE Table- Update the column value"
   ]
  },
  {
   "cell_type": "code",
   "execution_count": 39,
   "id": "f7ebb7fc",
   "metadata": {},
   "outputs": [
    {
     "data": {
      "text/plain": [
       "<sqlite3.Cursor at 0x1e7e3bd6f80>"
      ]
     },
     "execution_count": 39,
     "metadata": {},
     "output_type": "execute_result"
    }
   ],
   "source": [
    "# Single Record update\n",
    "cursor.execute(\"UPDATE student_data SET course_name= 'Cloud Architect' where fee_paid = 140000\")"
   ]
  },
  {
   "cell_type": "code",
   "execution_count": 40,
   "id": "42c288b7",
   "metadata": {},
   "outputs": [
    {
     "name": "stdout",
     "output_type": "stream",
     "text": [
      "(9889986798, 'littleone@gmail.com', 'cloud software', 58000)\n",
      "(9889986584, 'theone@gmail.com', 'cloud architect', 60000)\n",
      "(9988776604, 'student4@gmail.com', 'Digital Marketing', 38000)\n",
      "(9988776605, 'student5@gmail.com', 'Data Science', 133000)\n",
      "(9988776606, 'student6@gmail.com', 'Data Science', 34000)\n",
      "(9988776607, 'student7@gmail.com', 'Data Science', 33000)\n",
      "(9988776608, 'student8@gmail.com', 'Data Science', 129000)\n",
      "(9988776609, 'student9@gmail.com', 'Data Science', 40000)\n",
      "(9988776610, 'student10@gmail.com', 'Data Analytics', 32500)\n",
      "(9988776611, 'student11@gmail.com', 'Data Science', 41500)\n",
      "(9988776612, 'student12@gmail.com', 'Digital Marketing', 31000)\n",
      "(9988776613, 'student13@gmail.com', 'Digital Marketing', 23000)\n",
      "(9988776614, 'student14@gmail.com', 'Data Science', 24000)\n",
      "(9988776615, 'student15@gmail.com', 'Data Science', 23000)\n",
      "(9988776616, 'student16@gmail.com', 'Data Science', 122500)\n",
      "(9988776617, 'student17@gmail.com', 'Data Science', 29000)\n",
      "(9988776618, 'student18@gmail.com', 'Cloud Architect', 140000)\n",
      "(9988776619, 'student19@gmail.com', 'Data Analytics', 32500)\n",
      "(9988776620, 'student20@gmail.com', 'Inv Banking', 41500)\n",
      "(9988776621, 'student21@gmail.com', 'Data Science', 131000)\n",
      "(9988776622, 'student22@gmail.com', 'Data Science', 23000)\n",
      "(9988776623, 'student23@gmail.com', 'Data Science', 24000)\n"
     ]
    }
   ],
   "source": [
    "result= cursor.execute(\"SELECT * FROM student_data\")\n",
    "for row in result:\n",
    "    print(row)"
   ]
  },
  {
   "cell_type": "code",
   "execution_count": 41,
   "id": "e8552630",
   "metadata": {},
   "outputs": [
    {
     "name": "stdout",
     "output_type": "stream",
     "text": [
      "(9988776613, 'student13@gmail.com', 'Digital Marketing', 23000)\n",
      "(9988776615, 'student15@gmail.com', 'Data Science', 23000)\n",
      "(9988776622, 'student22@gmail.com', 'Data Science', 23000)\n",
      "(9988776614, 'student14@gmail.com', 'Data Science', 24000)\n",
      "(9988776623, 'student23@gmail.com', 'Data Science', 24000)\n",
      "(9988776617, 'student17@gmail.com', 'Data Science', 29000)\n",
      "(9988776612, 'student12@gmail.com', 'Digital Marketing', 31000)\n",
      "(9988776610, 'student10@gmail.com', 'Data Analytics', 32500)\n",
      "(9988776619, 'student19@gmail.com', 'Data Analytics', 32500)\n",
      "(9988776607, 'student7@gmail.com', 'Data Science', 33000)\n",
      "(9988776606, 'student6@gmail.com', 'Data Science', 34000)\n",
      "(9988776604, 'student4@gmail.com', 'Digital Marketing', 38000)\n",
      "(9988776609, 'student9@gmail.com', 'Data Science', 40000)\n",
      "(9988776611, 'student11@gmail.com', 'Data Science', 41500)\n",
      "(9988776620, 'student20@gmail.com', 'Inv Banking', 41500)\n",
      "(9889986798, 'littleone@gmail.com', 'cloud software', 58000)\n",
      "(9889986584, 'theone@gmail.com', 'cloud architect', 60000)\n",
      "(9988776616, 'student16@gmail.com', 'Data Science', 122500)\n",
      "(9988776608, 'student8@gmail.com', 'Data Science', 129000)\n",
      "(9988776621, 'student21@gmail.com', 'Data Science', 131000)\n",
      "(9988776605, 'student5@gmail.com', 'Data Science', 133000)\n",
      "(9988776618, 'student18@gmail.com', 'Cloud Architect', 140000)\n"
     ]
    }
   ],
   "source": [
    "result= cursor.execute(\"SELECT * FROM student_data order by fee_paid\")\n",
    "for row in result:\n",
    "    print(row)"
   ]
  },
  {
   "cell_type": "code",
   "execution_count": 42,
   "id": "cf5bbcce",
   "metadata": {},
   "outputs": [
    {
     "name": "stdout",
     "output_type": "stream",
     "text": [
      "(9988776618, 'student18@gmail.com', 'Cloud Architect', 140000)\n"
     ]
    }
   ],
   "source": [
    "result= cursor.execute(\"SELECT * FROM student_data where fee_paid = 140000\")\n",
    "for row in result:\n",
    "    print(row)"
   ]
  },
  {
   "cell_type": "code",
   "execution_count": 44,
   "id": "e98f6c95",
   "metadata": {},
   "outputs": [
    {
     "data": {
      "text/plain": [
       "<sqlite3.Cursor at 0x1e7e3bd6f80>"
      ]
     },
     "execution_count": 44,
     "metadata": {},
     "output_type": "execute_result"
    }
   ],
   "source": [
    "#multiple ecords update using 'IN'\n",
    "cursor.execute(\"update student_data SET fee_paid = 135000 where phone_no IN(9889986584, 9988776609, 9988776610)\")"
   ]
  },
  {
   "cell_type": "code",
   "execution_count": 46,
   "id": "3f9d465e",
   "metadata": {},
   "outputs": [
    {
     "name": "stdout",
     "output_type": "stream",
     "text": [
      "(9889986584, 'theone@gmail.com', 'cloud architect', 135000)\n",
      "(9988776609, 'student9@gmail.com', 'Data Science', 135000)\n",
      "(9988776610, 'student10@gmail.com', 'Data Analytics', 135000)\n"
     ]
    }
   ],
   "source": [
    "result= cursor.execute(\"SELECT * FROM student_data where phone_no IN(9889986584, 9988776609, 9988776610)\")\n",
    "for row in result:\n",
    "    print(row)"
   ]
  },
  {
   "cell_type": "code",
   "execution_count": 5,
   "id": "fe8abd3e",
   "metadata": {},
   "outputs": [
    {
     "name": "stdout",
     "output_type": "stream",
     "text": [
      "(9988776623, 'student23@gmail.com', 'Data Science', 24000)\n",
      "(9988776622, 'student22@gmail.com', 'Data Science', 23000)\n",
      "(9988776621, 'student21@gmail.com', 'Data Science', 131000)\n",
      "(9988776620, 'student20@gmail.com', 'Inv Banking', 41500)\n",
      "(9988776619, 'student19@gmail.com', 'Data Analytics', 32500)\n",
      "(9988776618, 'student18@gmail.com', 'Data Science', 140000)\n",
      "(9988776617, 'student17@gmail.com', 'Data Science', 29000)\n",
      "(9988776616, 'student16@gmail.com', 'Data Science', 122500)\n",
      "(9988776615, 'student15@gmail.com', 'Data Science', 23000)\n",
      "(9988776614, 'student14@gmail.com', 'Data Science', 24000)\n",
      "(9988776613, 'student13@gmail.com', 'Digital Marketing', 23000)\n",
      "(9988776612, 'student12@gmail.com', 'Digital Marketing', 31000)\n",
      "(9988776611, 'student11@gmail.com', 'Data Science', 41500)\n",
      "(9988776610, 'student10@gmail.com', 'Data Analytics', 32500)\n",
      "(9988776609, 'student9@gmail.com', 'Data Science', 40000)\n",
      "(9988776608, 'student8@gmail.com', 'Data Science', 129000)\n",
      "(9988776607, 'student7@gmail.com', 'Data Science', 33000)\n",
      "(9988776606, 'student6@gmail.com', 'Data Science', 34000)\n",
      "(9988776605, 'student5@gmail.com', 'Data Science', 133000)\n",
      "(9988776604, 'student4@gmail.com', 'Digital Marketing', 38000)\n",
      "(9889986798, 'littleone@gmail.com', 'cloud software', 58000)\n",
      "(9889986584, 'theone@gmail.com', 'cloud architect', 60000)\n"
     ]
    }
   ],
   "source": [
    "result= cursor.execute(\"SELECT * FROM student_data order by phone_no desc\")\n",
    "for row in result:\n",
    "    print(row)"
   ]
  },
  {
   "cell_type": "code",
   "execution_count": 7,
   "id": "6a41744b",
   "metadata": {},
   "outputs": [
    {
     "name": "stdout",
     "output_type": "stream",
     "text": [
      "(9988776605, 'Tableau')\n",
      "(9988776606, 'Tableau')\n",
      "(9988776607, 'Tableau')\n",
      "(9988776608, 'Tableau')\n"
     ]
    }
   ],
   "source": [
    "# update the records using BETWEEN\n",
    "sql = \"Update student_data set course_name = 'Tableau' where phone_no between 9988776605 and 9988776608\"\n",
    "cursor.execute(sql)\n",
    "\n",
    "# Verify if its updated\n",
    "result= cursor.execute(\"SELECT phone_no, course_name FROM student_data where course_name ='Tableau'\")\n",
    "for row in result:\n",
    "    print(row)"
   ]
  },
  {
   "cell_type": "markdown",
   "id": "9e16fa43",
   "metadata": {},
   "source": [
    "### MIN nad MAX Function"
   ]
  },
  {
   "cell_type": "code",
   "execution_count": 9,
   "id": "a42c40df",
   "metadata": {},
   "outputs": [
    {
     "name": "stdout",
     "output_type": "stream",
     "text": [
      "Minimum Fee =  (23000,)\n"
     ]
    }
   ],
   "source": [
    "result= cursor.execute(\"SELECT MIN(fee_paid) FROM student_data\")\n",
    "print(\"Minimum Fee = \", result.fetchone())"
   ]
  },
  {
   "cell_type": "code",
   "execution_count": 12,
   "id": "43157c36",
   "metadata": {},
   "outputs": [
    {
     "name": "stdout",
     "output_type": "stream",
     "text": [
      "Minimum Fee =  (140000,)\n"
     ]
    }
   ],
   "source": [
    "result= cursor.execute(\"SELECT MAX(fee_paid) FROM student_data\")\n",
    "print(\"Minimum Fee = \", result.fetchone())"
   ]
  },
  {
   "cell_type": "markdown",
   "id": "98760e80",
   "metadata": {},
   "source": [
    "### Subquery\n",
    "In SQL, A query within another query is called subquery. In other word we can say that a Subquery is a query that is embedded in WHERE clause of another SQL query.\n",
    "Subqueries can be used with SELECT,UPDATE, INSERT,DELETE statements along with expression operator."
   ]
  },
  {
   "cell_type": "code",
   "execution_count": 4,
   "id": "275836bc",
   "metadata": {},
   "outputs": [],
   "source": [
    "import sqlite3\n",
    "db = sqlite3.connect(\"student_course_database.db\")"
   ]
  },
  {
   "cell_type": "code",
   "execution_count": 5,
   "id": "fcbe79bf",
   "metadata": {},
   "outputs": [],
   "source": [
    "cursor = db.cursor()"
   ]
  },
  {
   "cell_type": "code",
   "execution_count": 6,
   "id": "6d2295f0",
   "metadata": {},
   "outputs": [
    {
     "data": {
      "text/plain": [
       "<sqlite3.Cursor at 0x1b781694490>"
      ]
     },
     "execution_count": 6,
     "metadata": {},
     "output_type": "execute_result"
    }
   ],
   "source": [
    "cursor.execute(\"create table course1(courseid INT Primary Key, coursename TEXT, duration INT)\")"
   ]
  },
  {
   "cell_type": "code",
   "execution_count": null,
   "id": "72de59b3",
   "metadata": {},
   "outputs": [],
   "source": [
    "cursor.execute(\"create table student1(rollno INT Primary Key, studentname TEXT, age INT, courseid int, foreign key(courseid) references course1(courseid))\")"
   ]
  },
  {
   "cell_type": "code",
   "execution_count": 10,
   "id": "3ca54fe3",
   "metadata": {},
   "outputs": [
    {
     "name": "stdout",
     "output_type": "stream",
     "text": [
      "3 recors(s) inserted\n"
     ]
    }
   ],
   "source": [
    "cursor.execute(\"insert into course1 values (78, 'Data Science', 12),(56, 'python', 4),(101, 'Database', 7)\")\n",
    "print(cursor.rowcount, \"recors(s) inserted\")\n",
    "\n",
    "db.commit;"
   ]
  },
  {
   "cell_type": "code",
   "execution_count": 11,
   "id": "6d77bce3",
   "metadata": {},
   "outputs": [
    {
     "name": "stdout",
     "output_type": "stream",
     "text": [
      "4 recors(s) inserted\n"
     ]
    }
   ],
   "source": [
    "cursor.execute(\"insert into student1 values (1, 'vikas', 30, 78),(2, 'tabrez', 30, 56),(3, 'nupriya', 29, 78),(4, 'bhuwnesh',32,56)\")\n",
    "print(cursor.rowcount, \"recors(s) inserted\")\n",
    "\n",
    "db.commit;"
   ]
  },
  {
   "cell_type": "code",
   "execution_count": 12,
   "id": "818855ce",
   "metadata": {},
   "outputs": [
    {
     "name": "stdout",
     "output_type": "stream",
     "text": [
      "(78, 'Data Science', 12)\n",
      "(56, 'python', 4)\n",
      "(101, 'Database', 7)\n"
     ]
    }
   ],
   "source": [
    "result= cursor.execute(\"select * from course1\")\n",
    "for row in result:\n",
    "    print(row)"
   ]
  },
  {
   "cell_type": "code",
   "execution_count": 13,
   "id": "56ace2e6",
   "metadata": {},
   "outputs": [
    {
     "name": "stdout",
     "output_type": "stream",
     "text": [
      "(1, 'vikas', 30, 78)\n",
      "(2, 'tabrez', 30, 56)\n",
      "(3, 'nupriya', 29, 78)\n",
      "(4, 'bhuwnesh', 32, 56)\n"
     ]
    }
   ],
   "source": [
    "result= cursor.execute(\"select * from student1\")\n",
    "for row in result:\n",
    "    print(row)"
   ]
  },
  {
   "cell_type": "code",
   "execution_count": 18,
   "id": "e016bf14",
   "metadata": {},
   "outputs": [
    {
     "data": {
      "text/plain": [
       "[(1, 'vikas', 30, 78), (3, 'nupriya', 29, 78)]"
      ]
     },
     "execution_count": 18,
     "metadata": {},
     "output_type": "execute_result"
    }
   ],
   "source": [
    "result= cursor.execute(\"select * from student1 where courseid=(select courseid from course1 where coursename = 'Data Science')\")\n",
    "result.fetchall()"
   ]
  },
  {
   "cell_type": "code",
   "execution_count": 19,
   "id": "8e8c3bc8",
   "metadata": {},
   "outputs": [
    {
     "data": {
      "text/plain": [
       "[(2, 'tabrez', 30, 56), (4, 'bhuwnesh', 32, 56)]"
      ]
     },
     "execution_count": 19,
     "metadata": {},
     "output_type": "execute_result"
    }
   ],
   "source": [
    "result= cursor.execute(\"select * from student1 where courseid=(select courseid from course1 where coursename = 'python')\")\n",
    "result.fetchall()"
   ]
  },
  {
   "cell_type": "code",
   "execution_count": 20,
   "id": "ae0b1811",
   "metadata": {},
   "outputs": [
    {
     "name": "stdout",
     "output_type": "stream",
     "text": [
      "(2, 'tabrez', 30, 56)\n",
      "(4, 'bhuwnesh', 32, 56)\n"
     ]
    }
   ],
   "source": [
    "result= cursor.execute(\"select * from student1 where courseid=56\")\n",
    "for row in result:\n",
    "    print(row)"
   ]
  },
  {
   "cell_type": "code",
   "execution_count": 21,
   "id": "60dc00b7",
   "metadata": {},
   "outputs": [
    {
     "name": "stdout",
     "output_type": "stream",
     "text": [
      "(2, 'tabrez', 30, 56)\n",
      "(4, 'bhuwnesh', 32, 56)\n"
     ]
    }
   ],
   "source": [
    "result= cursor.execute(\"select * from student1 where courseid=(select courseid from course1 where coursename = 'python')\")\n",
    "for row in result:\n",
    "    print(row)"
   ]
  },
  {
   "cell_type": "markdown",
   "id": "27247915",
   "metadata": {},
   "source": [
    "### JOIN\n",
    "1- INNER JOIN - Return record that have matching values in both tables\n",
    "\n",
    "2- LEFT JOIN - Return all record from the left table, and matched record from the right table.\n",
    "\n",
    "3- RIGHT JOIN - Return all record from the right table, and matched record from the left table. \n",
    "\n",
    "4- FULL JOIN - Return all records when there is a match in either left or right table"
   ]
  },
  {
   "cell_type": "code",
   "execution_count": 11,
   "id": "487618d6",
   "metadata": {},
   "outputs": [
    {
     "data": {
      "text/plain": [
       "<sqlite3.Cursor at 0x1d0348370a0>"
      ]
     },
     "execution_count": 11,
     "metadata": {},
     "output_type": "execute_result"
    }
   ],
   "source": [
    "cursor.execute(\"create table student3(phone_no INT Primary Key, student name TEXT, enrolled_date TEXT, marks INT)\")\n"
   ]
  },
  {
   "cell_type": "code",
   "execution_count": 13,
   "id": "ab98bbe1",
   "metadata": {},
   "outputs": [
    {
     "name": "stdout",
     "output_type": "stream",
     "text": [
      "20 Record(s) Inserted\n"
     ]
    }
   ],
   "source": [
    "with open('Students_details.csv','r') as file:\n",
    "    no_record =0\n",
    "    for row in file:\n",
    "        cursor.execute(\"insert into student3 values ( ?, ?, ?, ?)\",row.split(\",\"))\n",
    "        db.commit()\n",
    "        no_record +=1\n",
    "print(no_record, \"Record(s) Inserted\")"
   ]
  },
  {
   "cell_type": "code",
   "execution_count": 14,
   "id": "01ef4c1e",
   "metadata": {},
   "outputs": [
    {
     "name": "stdout",
     "output_type": "stream",
     "text": [
      "(9988776604, 'Salah', '03-10-2020', 85)\n",
      "(9988776605, 'Heung-Son', '21-06-2020', 39)\n",
      "(9988776606, 'Ronaldo', '08-05-2020', 86)\n",
      "(9988776607, 'Kane', '11-05-2022', 57)\n",
      "(9988776608, 'Mane', '17-05-2022', 52)\n",
      "(6609998877, 'Vardy', '17-12-2020', 54)\n",
      "(6609998878, 'Jota', '06-11-2021', 45)\n",
      "(6609998879, 'Bruyne', '26-11-2020', 49)\n",
      "(6609998880, 'Zaha', '05-12-2020', 88)\n",
      "(6609998881, 'Sterling', '29-10-2020', 61)\n",
      "(9988776614, 'Toney', '31-03-2022', 71)\n",
      "(9988776615, 'Maddison', '10-03-2020', 44)\n",
      "(1687799866, 'Bowen', '14-02-2021', 96)\n",
      "(1687799867, 'Saka', '19-12-2022', 92)\n",
      "(1687799868, 'Watkins', '30-01-2021', 49)\n",
      "(1687799869, 'Mount', '16-09-2022', 48)\n",
      "(1687799870, 'Raphael', '15-05-2021', 50)\n",
      "(1687799871, 'Mahrez', '30-10-2021', 72)\n",
      "(9988776622, 'Pukki', '19-02-2021', 93)\n",
      "(9988776623, 'Fernandes', '01-03-2022', 94)\n"
     ]
    }
   ],
   "source": [
    "result= cursor.execute(\"select * from student3\")\n",
    "for row in result:\n",
    "    print(row)"
   ]
  },
  {
   "cell_type": "markdown",
   "id": "c10b1dfa",
   "metadata": {},
   "source": [
    "### INNER JOIN"
   ]
  },
  {
   "cell_type": "code",
   "execution_count": 16,
   "id": "d06ccebf",
   "metadata": {},
   "outputs": [
    {
     "name": "stdout",
     "output_type": "stream",
     "text": [
      "(9988776604, '03-10-2020', 85)\n",
      "(9988776605, '21-06-2020', 39)\n",
      "(9988776606, '08-05-2020', 86)\n",
      "(9988776607, '11-05-2022', 57)\n",
      "(9988776608, '17-05-2022', 52)\n",
      "(9988776614, '31-03-2022', 71)\n",
      "(9988776615, '10-03-2020', 44)\n",
      "(9988776622, '19-02-2021', 93)\n",
      "(9988776623, '01-03-2022', 94)\n"
     ]
    }
   ],
   "source": [
    "sql = \"select student_data.phone_no, student3.enrolled_date, student3.marks from student_data INNER JOIN student3 ON student_data.phone_no = student3.phone_no\"\n",
    "result = cursor.execute(sql)\n",
    "for row in result:\n",
    "    print(row)"
   ]
  },
  {
   "cell_type": "markdown",
   "id": "c40f34e0",
   "metadata": {},
   "source": [
    "### LEFT JOIN"
   ]
  },
  {
   "cell_type": "code",
   "execution_count": null,
   "id": "b2ac1fa9",
   "metadata": {},
   "outputs": [],
   "source": [
    "sql = \"select student_data.phone_no, student3.enrolled_date, student3.marks from student_data LEFT JOIN student3 ON student_data.phone_no = student3.phone_no\"\n",
    "result = cursor.execute(sql)\n",
    "for row in result:\n",
    "    print(row)"
   ]
  },
  {
   "cell_type": "markdown",
   "id": "9d28ace1",
   "metadata": {},
   "source": [
    "#### RIGHT JOIN and FULL OUTER JOIN not suppoted in Sqlite3 "
   ]
  },
  {
   "cell_type": "markdown",
   "id": "85e75ec9",
   "metadata": {},
   "source": [
    "### PYTHON and SQL (How to deal with python code"
   ]
  },
  {
   "cell_type": "code",
   "execution_count": 3,
   "id": "a4a9b9cc",
   "metadata": {},
   "outputs": [
    {
     "name": "stdout",
     "output_type": "stream",
     "text": [
      "Enter your mobile number  212131\n",
      "Enter the 10 digit phone number\n",
      "Enter your mobile number  cddg\n",
      "Phone number should be numeric\n",
      "Enter your mobile number  9988776604\n",
      "Name =  Salah\n",
      "Enrolled Date =  03-10-2020\n",
      "Mark =  85\n"
     ]
    }
   ],
   "source": [
    "while True:\n",
    "    \n",
    "    try:\n",
    "        ph_num =int(input(\"Enter your mobile number  \"))\n",
    "        \n",
    "        if len(str(ph_num))!= 10:\n",
    "            print(\"Enter the 10 digit phone number\")\n",
    "            continue\n",
    "        else:\n",
    "            result = cursor.execute(\"select * from student3\")\n",
    "            for detail in result:\n",
    "                if detail[0] == ph_num:\n",
    "                    print('Name = ', detail[1])\n",
    "                    print('Enrolled Date = ',detail[2])\n",
    "                    print('Mark = ',detail[3])\n",
    "                    break\n",
    "            else:\n",
    "                print(\"Phone Number not found in database\")\n",
    "                break\n",
    "#            continue\n",
    "            break\n",
    "    except:\n",
    "        print(\"Phone number should be numeric\")\n",
    "        continue"
   ]
  }
 ],
 "metadata": {
  "kernelspec": {
   "display_name": "Python 3 (ipykernel)",
   "language": "python",
   "name": "python3"
  },
  "language_info": {
   "codemirror_mode": {
    "name": "ipython",
    "version": 3
   },
   "file_extension": ".py",
   "mimetype": "text/x-python",
   "name": "python",
   "nbconvert_exporter": "python",
   "pygments_lexer": "ipython3",
   "version": "3.9.12"
  }
 },
 "nbformat": 4,
 "nbformat_minor": 5
}
