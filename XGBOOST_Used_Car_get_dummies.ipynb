{
 "cells": [
  {
   "cell_type": "markdown",
   "id": "2e47b09a",
   "metadata": {},
   "source": [
    "### XGBOOST\n",
    "\n",
    "### Used Car Price Pridiction"
   ]
  },
  {
   "cell_type": "code",
   "execution_count": 3,
   "id": "f33fc0c3",
   "metadata": {},
   "outputs": [],
   "source": [
    "#Necessary Imports \n",
    "import pandas as pd\n",
    "import numpy as np\n",
    "import matplotlib.pyplot as plt\n",
    "import pickle\n",
    "from sklearn import metrics\n",
    "from sklearn.tree import DecisionTreeClassifier\n",
    "from sklearn.model_selection import train_test_split,GridSearchCV  # preprocessing\n",
    "from sklearn.preprocessing import StandardScaler\n",
    "# metrics and models\n",
    "from sklearn.metrics import accuracy_score, confusion_matrix, roc_curve, roc_auc_score, r2_score, mean_squared_error\n",
    "import xgboost as xgb\n",
    "import seaborn as sns\n",
    "%matplotlib inline\n",
    "\n",
    "import warnings\n",
    "warnings.filterwarnings('ignore')"
   ]
  },
  {
   "cell_type": "code",
   "execution_count": 4,
   "id": "d218b8a9",
   "metadata": {},
   "outputs": [
    {
     "name": "stdout",
     "output_type": "stream",
     "text": [
      "Collecting xgboost\n",
      "Note: you may need to restart the kernel to use updated packages.\n",
      "  Downloading xgboost-1.7.2-py3-none-win_amd64.whl (89.1 MB)\n",
      "Requirement already satisfied: numpy in e:\\anaconda\\lib\\site-packages (from xgboost) (1.21.5)\n",
      "Requirement already satisfied: scipy in e:\\anaconda\\lib\\site-packages (from xgboost) (1.7.3)\n",
      "Installing collected packages: xgboost\n",
      "Successfully installed xgboost-1.7.2\n"
     ]
    }
   ],
   "source": [
    "pip install xgboost"
   ]
  },
  {
   "cell_type": "code",
   "execution_count": 1,
   "id": "dda068d9",
   "metadata": {},
   "outputs": [],
   "source": [
    "import xgboost as xgb"
   ]
  },
  {
   "cell_type": "code",
   "execution_count": 5,
   "id": "aad1e658",
   "metadata": {},
   "outputs": [],
   "source": [
    "df = pd.read_csv('vehicles_data_students.csv')"
   ]
  },
  {
   "cell_type": "code",
   "execution_count": 8,
   "id": "cd1be6e6",
   "metadata": {},
   "outputs": [
    {
     "data": {
      "text/html": [
       "<div>\n",
       "<style scoped>\n",
       "    .dataframe tbody tr th:only-of-type {\n",
       "        vertical-align: middle;\n",
       "    }\n",
       "\n",
       "    .dataframe tbody tr th {\n",
       "        vertical-align: top;\n",
       "    }\n",
       "\n",
       "    .dataframe thead th {\n",
       "        text-align: right;\n",
       "    }\n",
       "</style>\n",
       "<table border=\"1\" class=\"dataframe\">\n",
       "  <thead>\n",
       "    <tr style=\"text-align: right;\">\n",
       "      <th></th>\n",
       "      <th>Unnamed: 0</th>\n",
       "      <th>id</th>\n",
       "      <th>price</th>\n",
       "      <th>year</th>\n",
       "      <th>manufacturer</th>\n",
       "      <th>model</th>\n",
       "      <th>condition</th>\n",
       "      <th>cylinders</th>\n",
       "      <th>fuel</th>\n",
       "      <th>odometer</th>\n",
       "      <th>title_status</th>\n",
       "      <th>transmission</th>\n",
       "      <th>drive</th>\n",
       "      <th>size</th>\n",
       "      <th>type</th>\n",
       "      <th>paint_color</th>\n",
       "      <th>county</th>\n",
       "      <th>state</th>\n",
       "      <th>lat</th>\n",
       "      <th>long</th>\n",
       "    </tr>\n",
       "  </thead>\n",
       "  <tbody>\n",
       "    <tr>\n",
       "      <th>0</th>\n",
       "      <td>55483</td>\n",
       "      <td>7315914053</td>\n",
       "      <td>0</td>\n",
       "      <td>2018.0</td>\n",
       "      <td>ram</td>\n",
       "      <td>promaster 2500</td>\n",
       "      <td>excellent</td>\n",
       "      <td>NaN</td>\n",
       "      <td>gas</td>\n",
       "      <td>44244.0</td>\n",
       "      <td>clean</td>\n",
       "      <td>automatic</td>\n",
       "      <td>NaN</td>\n",
       "      <td>NaN</td>\n",
       "      <td>van</td>\n",
       "      <td>NaN</td>\n",
       "      <td>NaN</td>\n",
       "      <td>ca</td>\n",
       "      <td>32.792800</td>\n",
       "      <td>-116.966500</td>\n",
       "    </tr>\n",
       "    <tr>\n",
       "      <th>1</th>\n",
       "      <td>162368</td>\n",
       "      <td>7310885048</td>\n",
       "      <td>13995</td>\n",
       "      <td>2017.0</td>\n",
       "      <td>mazda</td>\n",
       "      <td>cx-3</td>\n",
       "      <td>NaN</td>\n",
       "      <td>4 cylinders</td>\n",
       "      <td>gas</td>\n",
       "      <td>7037.0</td>\n",
       "      <td>rebuilt</td>\n",
       "      <td>automatic</td>\n",
       "      <td>NaN</td>\n",
       "      <td>NaN</td>\n",
       "      <td>SUV</td>\n",
       "      <td>white</td>\n",
       "      <td>NaN</td>\n",
       "      <td>ia</td>\n",
       "      <td>41.207382</td>\n",
       "      <td>-96.023096</td>\n",
       "    </tr>\n",
       "    <tr>\n",
       "      <th>2</th>\n",
       "      <td>234393</td>\n",
       "      <td>7308243856</td>\n",
       "      <td>19990</td>\n",
       "      <td>2019.0</td>\n",
       "      <td>mitsubishi</td>\n",
       "      <td>eclipse cross sp</td>\n",
       "      <td>good</td>\n",
       "      <td>NaN</td>\n",
       "      <td>gas</td>\n",
       "      <td>35313.0</td>\n",
       "      <td>clean</td>\n",
       "      <td>other</td>\n",
       "      <td>4wd</td>\n",
       "      <td>NaN</td>\n",
       "      <td>hatchback</td>\n",
       "      <td>white</td>\n",
       "      <td>NaN</td>\n",
       "      <td>nc</td>\n",
       "      <td>35.190000</td>\n",
       "      <td>-80.830000</td>\n",
       "    </tr>\n",
       "    <tr>\n",
       "      <th>3</th>\n",
       "      <td>276110</td>\n",
       "      <td>7315817729</td>\n",
       "      <td>0</td>\n",
       "      <td>2019.0</td>\n",
       "      <td>honda</td>\n",
       "      <td>cr-v</td>\n",
       "      <td>NaN</td>\n",
       "      <td>NaN</td>\n",
       "      <td>gas</td>\n",
       "      <td>25626.0</td>\n",
       "      <td>clean</td>\n",
       "      <td>automatic</td>\n",
       "      <td>NaN</td>\n",
       "      <td>NaN</td>\n",
       "      <td>SUV</td>\n",
       "      <td>orange</td>\n",
       "      <td>NaN</td>\n",
       "      <td>ny</td>\n",
       "      <td>40.854573</td>\n",
       "      <td>-74.120219</td>\n",
       "    </tr>\n",
       "    <tr>\n",
       "      <th>4</th>\n",
       "      <td>349033</td>\n",
       "      <td>7301620999</td>\n",
       "      <td>42900</td>\n",
       "      <td>2015.0</td>\n",
       "      <td>chevrolet</td>\n",
       "      <td>corvette</td>\n",
       "      <td>excellent</td>\n",
       "      <td>8 cylinders</td>\n",
       "      <td>gas</td>\n",
       "      <td>29000.0</td>\n",
       "      <td>clean</td>\n",
       "      <td>automatic</td>\n",
       "      <td>NaN</td>\n",
       "      <td>NaN</td>\n",
       "      <td>convertible</td>\n",
       "      <td>black</td>\n",
       "      <td>NaN</td>\n",
       "      <td>sc</td>\n",
       "      <td>34.755562</td>\n",
       "      <td>-82.906419</td>\n",
       "    </tr>\n",
       "  </tbody>\n",
       "</table>\n",
       "</div>"
      ],
      "text/plain": [
       "   Unnamed: 0          id  price    year manufacturer             model  \\\n",
       "0       55483  7315914053      0  2018.0          ram    promaster 2500   \n",
       "1      162368  7310885048  13995  2017.0        mazda              cx-3   \n",
       "2      234393  7308243856  19990  2019.0   mitsubishi  eclipse cross sp   \n",
       "3      276110  7315817729      0  2019.0        honda              cr-v   \n",
       "4      349033  7301620999  42900  2015.0    chevrolet          corvette   \n",
       "\n",
       "   condition    cylinders fuel  odometer title_status transmission drive size  \\\n",
       "0  excellent          NaN  gas   44244.0        clean    automatic   NaN  NaN   \n",
       "1        NaN  4 cylinders  gas    7037.0      rebuilt    automatic   NaN  NaN   \n",
       "2       good          NaN  gas   35313.0        clean        other   4wd  NaN   \n",
       "3        NaN          NaN  gas   25626.0        clean    automatic   NaN  NaN   \n",
       "4  excellent  8 cylinders  gas   29000.0        clean    automatic   NaN  NaN   \n",
       "\n",
       "          type paint_color  county state        lat        long  \n",
       "0          van         NaN     NaN    ca  32.792800 -116.966500  \n",
       "1          SUV       white     NaN    ia  41.207382  -96.023096  \n",
       "2    hatchback       white     NaN    nc  35.190000  -80.830000  \n",
       "3          SUV      orange     NaN    ny  40.854573  -74.120219  \n",
       "4  convertible       black     NaN    sc  34.755562  -82.906419  "
      ]
     },
     "execution_count": 8,
     "metadata": {},
     "output_type": "execute_result"
    }
   ],
   "source": [
    "df.head(5)"
   ]
  },
  {
   "cell_type": "code",
   "execution_count": 9,
   "id": "60a6517b",
   "metadata": {},
   "outputs": [
    {
     "data": {
      "text/plain": [
       "(64032, 20)"
      ]
     },
     "execution_count": 9,
     "metadata": {},
     "output_type": "execute_result"
    }
   ],
   "source": [
    "df.shape"
   ]
  },
  {
   "cell_type": "code",
   "execution_count": null,
   "id": "71de139a",
   "metadata": {},
   "outputs": [],
   "source": [
    "df = df.drop['Unnamed']"
   ]
  }
 ],
 "metadata": {
  "kernelspec": {
   "display_name": "Python 3 (ipykernel)",
   "language": "python",
   "name": "python3"
  },
  "language_info": {
   "codemirror_mode": {
    "name": "ipython",
    "version": 3
   },
   "file_extension": ".py",
   "mimetype": "text/x-python",
   "name": "python",
   "nbconvert_exporter": "python",
   "pygments_lexer": "ipython3",
   "version": "3.9.12"
  }
 },
 "nbformat": 4,
 "nbformat_minor": 5
}
