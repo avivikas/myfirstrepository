{
 "cells": [
  {
   "cell_type": "code",
   "execution_count": 3,
   "id": "9532f8c2",
   "metadata": {},
   "outputs": [],
   "source": [
    "def say_hello():\n",
    "    print('this is a simple example of defing function')"
   ]
  },
  {
   "cell_type": "code",
   "execution_count": 4,
   "id": "07f9a9a6",
   "metadata": {},
   "outputs": [
    {
     "name": "stdout",
     "output_type": "stream",
     "text": [
      "this is a simple example of defing function\n"
     ]
    }
   ],
   "source": [
    "say_hello()"
   ]
  },
  {
   "cell_type": "code",
   "execution_count": 5,
   "id": "c8365531",
   "metadata": {},
   "outputs": [],
   "source": [
    "def greeting(name):\n",
    "    print('Hello', name)"
   ]
  },
  {
   "cell_type": "code",
   "execution_count": 7,
   "id": "d3a16658",
   "metadata": {},
   "outputs": [
    {
     "name": "stdout",
     "output_type": "stream",
     "text": [
      "Hello I am doing a data science course\n"
     ]
    }
   ],
   "source": [
    "greeting('I am doing a data science course')"
   ]
  },
  {
   "cell_type": "markdown",
   "id": "59df3a62",
   "metadata": {},
   "source": [
    "### Using return\n",
    " Return allowa a function to \"return\" a result that can be stored as a variable, or used in whatever manner a user wants.\n",
    " \n",
    "#### Salary Update example"
   ]
  },
  {
   "cell_type": "code",
   "execution_count": 8,
   "id": "c201efea",
   "metadata": {},
   "outputs": [],
   "source": [
    "# without return\n",
    "\n",
    "def Salary_Incr(Fixed_sal, house_rent):\n",
    "    total_sal= Fixed_sal + house_rent\n",
    "    \n",
    "    if total_sal<=9000:\n",
    "        total_sal + 1000\n",
    "    else:\n",
    "        total_sal\n",
    "        "
   ]
  },
  {
   "cell_type": "code",
   "execution_count": 12,
   "id": "701da71b",
   "metadata": {},
   "outputs": [
    {
     "name": "stdout",
     "output_type": "stream",
     "text": [
      "The new sal = None\n"
     ]
    }
   ],
   "source": [
    "print('The new sal =' , Salary_Incr(6500,2000))"
   ]
  },
  {
   "cell_type": "code",
   "execution_count": 13,
   "id": "9353a7ed",
   "metadata": {},
   "outputs": [],
   "source": [
    "# with return\n",
    "\n",
    "def Salary_Incr(Fixed_sal, house_rent):\n",
    "    total_sal= Fixed_sal + house_rent\n",
    "    \n",
    "    if total_sal<=9000:\n",
    "        return total_sal + 1000\n",
    "    else:\n",
    "        return total_sal\n",
    "        "
   ]
  },
  {
   "cell_type": "code",
   "execution_count": 18,
   "id": "921afefb",
   "metadata": {},
   "outputs": [
    {
     "name": "stdout",
     "output_type": "stream",
     "text": [
      "The new sal = 9500\n"
     ]
    }
   ],
   "source": [
    "print('The new sal =' , Salary_Incr(6500,2000)) "
   ]
  },
  {
   "cell_type": "code",
   "execution_count": 34,
   "id": "42918229",
   "metadata": {},
   "outputs": [],
   "source": [
    "def used_car_info(car_yrs, car_name,car_km):\n",
    "    if car_yrs == 2021:\n",
    "        if car_km >= 10000 and car_km <= 15000:\n",
    "            if car_name == 'Hyundai Creta':\n",
    "                print('Hyundai Car price is = 900000 to 1050000')\n",
    "            else:\n",
    "                print('this time car is not available')\n",
    "        \n",
    "        elif car_km >= 16000 and car_km <= 20000:\n",
    "            if car_name == 'Honda Amaze':\n",
    "                print('Honda Car price is = 600000 to 800000')\n",
    "            else:\n",
    "                print('this time car is not available')\n",
    "        else:\n",
    "            print('No stock right now')\n",
    "    elif car_yrs == 2020:\n",
    "        if 12000 < car_km < 16000:\n",
    "            if car_name == 'Maruti swift':\n",
    "                print('Maruti Car price is = 555000 to 600000')\n",
    "            else:\n",
    "                print('this time Maruti car is not available')\n",
    "        elif 15000 < car_km < 20000:\n",
    "            if car_name == 'ford figo':\n",
    "                print('ford Car price is = 355000 to 500000')\n",
    "            else:\n",
    "                print('ford Not avail')\n",
    "        else:\n",
    "            print('out of stock')\n",
    "    else:\n",
    "        print('not available below 2020 years')  \n",
    "                \n",
    "    "
   ]
  },
  {
   "cell_type": "code",
   "execution_count": 40,
   "id": "3946875f",
   "metadata": {},
   "outputs": [
    {
     "name": "stdout",
     "output_type": "stream",
     "text": [
      "not available below 2020 years\n"
     ]
    }
   ],
   "source": [
    "used_car_info(2019, 'ford', 21000)"
   ]
  },
  {
   "cell_type": "markdown",
   "id": "ca6cc532",
   "metadata": {},
   "source": [
    "### Lambda function\n"
   ]
  },
  {
   "cell_type": "code",
   "execution_count": 41,
   "id": "f8049551",
   "metadata": {},
   "outputs": [
    {
     "name": "stdout",
     "output_type": "stream",
     "text": [
      "100\n"
     ]
    }
   ],
   "source": [
    "# Syntax - lambda arguments : expression\n",
    "\n",
    "add_num = lambda x : x + 30\n",
    "print(add_num(70))"
   ]
  },
  {
   "cell_type": "code",
   "execution_count": 42,
   "id": "94bc9b83",
   "metadata": {},
   "outputs": [
    {
     "name": "stdout",
     "output_type": "stream",
     "text": [
      "50\n"
     ]
    }
   ],
   "source": [
    "multi_num = lambda x, y : x * y\n",
    "print(multi_num(5,10))"
   ]
  },
  {
   "cell_type": "markdown",
   "id": "66aad6b5",
   "metadata": {},
   "source": [
    "### * *args and  *** kwargs\n"
   ]
  },
  {
   "cell_type": "code",
   "execution_count": 50,
   "id": "bded8f90",
   "metadata": {},
   "outputs": [],
   "source": [
    "# *args takes multiple inputs\n",
    "\n",
    "def my_func(*args):\n",
    "    x=0\n",
    "    for i in args:\n",
    "        x += 1 \n",
    "        print('My', x, 'arg is-', i)    \n"
   ]
  },
  {
   "cell_type": "code",
   "execution_count": 51,
   "id": "3727727a",
   "metadata": {},
   "outputs": [
    {
     "name": "stdout",
     "output_type": "stream",
     "text": [
      "My 1 arg is- vikas\n",
      "My 2 arg is- 1\n",
      "My 3 arg is- 100\n",
      "My 4 arg is- 35.5\n",
      "My 5 arg is- sharma\n"
     ]
    }
   ],
   "source": [
    "my_func('vikas', 1, 100, 35.5, 'sharma')"
   ]
  },
  {
   "cell_type": "code",
   "execution_count": 57,
   "id": "cbe903de",
   "metadata": {},
   "outputs": [],
   "source": [
    "def my_kwarg(**kwargs):\n",
    "    for key, value in kwargs.items():\n",
    "        \n",
    "        print(key, '=', value)    "
   ]
  },
  {
   "cell_type": "code",
   "execution_count": 61,
   "id": "83fbd00e",
   "metadata": {},
   "outputs": [
    {
     "name": "stdout",
     "output_type": "stream",
     "text": [
      "student = ['Vikas, Aarti']\n",
      "Marks = [78, 70]\n",
      "age = [32, 30]\n"
     ]
    }
   ],
   "source": [
    "my_kwarg(student=['Vikas, Aarti'], Marks= [78,70], age=[32,30])"
   ]
  },
  {
   "cell_type": "code",
   "execution_count": 59,
   "id": "8876f99e",
   "metadata": {},
   "outputs": [
    {
     "name": "stdout",
     "output_type": "stream",
     "text": [
      "Requirement already satisfied: jedi==0.17.2 in e:\\anaconda\\lib\\site-packages (0.17.2)\n",
      "Requirement already satisfied: parso<0.8.0,>=0.7.0 in e:\\anaconda\\lib\\site-packages (from jedi==0.17.2) (0.7.1)\n"
     ]
    }
   ],
   "source": [
    "!pip3 install jedi==0.17.2"
   ]
  },
  {
   "cell_type": "markdown",
   "id": "6af2cf8a",
   "metadata": {},
   "source": [
    "### map()\n",
    "\n",
    "map is a function which will returnupon iterating over set of elements(tuple, list,etc).it is used when you want to apply a single transformation function to all the iterable elements.\n",
    "\n",
    "Syn- map(function,sequence)"
   ]
  },
  {
   "cell_type": "code",
   "execution_count": 8,
   "id": "fabfee4e",
   "metadata": {},
   "outputs": [],
   "source": [
    "# prog logic is that when we have no. of student marks and some of students got the marks\n",
    "# which is the boundary of passing marks then where we can use map function.\n",
    "\n",
    "def grace_marks(marks):\n",
    "    if marks == 33:\n",
    "        return marks + 2\n",
    "    elif marks == 32:\n",
    "        return marks + 3\n",
    "    else:\n",
    "        return marks"
   ]
  },
  {
   "cell_type": "code",
   "execution_count": 9,
   "id": "9e4d5730",
   "metadata": {},
   "outputs": [],
   "source": [
    "marks =[52,32,48,45,33,50,35,33]"
   ]
  },
  {
   "cell_type": "code",
   "execution_count": 10,
   "id": "fabbef92",
   "metadata": {},
   "outputs": [
    {
     "name": "stdout",
     "output_type": "stream",
     "text": [
      "[52, 35, 48, 45, 35, 50, 35, 35]\n"
     ]
    }
   ],
   "source": [
    "total = list(map(grace_marks, marks))\n",
    "\n",
    "print(total)"
   ]
  },
  {
   "cell_type": "code",
   "execution_count": 11,
   "id": "950e5ae4",
   "metadata": {},
   "outputs": [
    {
     "data": {
      "text/plain": [
       "4"
      ]
     },
     "execution_count": 11,
     "metadata": {},
     "output_type": "execute_result"
    }
   ],
   "source": [
    "total.count(35)"
   ]
  },
  {
   "cell_type": "markdown",
   "id": "e00a2cc3",
   "metadata": {},
   "source": [
    "### filter()\n",
    "\n",
    "filter is a function which offers a convenient way to filter out all the elements of an iterable, for which the function returns \"True\" that means Only TRUE value is returned.\n",
    "\n",
    "Syn- filter(function,sequence)"
   ]
  },
  {
   "cell_type": "code",
   "execution_count": 13,
   "id": "766e4541",
   "metadata": {},
   "outputs": [],
   "source": [
    "#print those student marks who failed\n",
    "def filter_marks(marks):\n",
    "    if marks < 35:\n",
    "        return marks"
   ]
  },
  {
   "cell_type": "code",
   "execution_count": 14,
   "id": "bd0fbd22",
   "metadata": {},
   "outputs": [],
   "source": [
    "marks = [35,55,30,32,45,31]"
   ]
  },
  {
   "cell_type": "code",
   "execution_count": 15,
   "id": "4aee2271",
   "metadata": {},
   "outputs": [],
   "source": [
    "failed = list(filter(filter_marks, marks))"
   ]
  },
  {
   "cell_type": "code",
   "execution_count": 16,
   "id": "2b83224c",
   "metadata": {},
   "outputs": [
    {
     "data": {
      "text/plain": [
       "[30, 32, 31]"
      ]
     },
     "execution_count": 16,
     "metadata": {},
     "output_type": "execute_result"
    }
   ],
   "source": [
    "failed"
   ]
  },
  {
   "cell_type": "markdown",
   "id": "df073eab",
   "metadata": {},
   "source": [
    "### Difference between map and filter\n",
    "\n",
    "Map accepts all elements in a given list and a function can be applied to it.\n",
    "\n",
    "Filter accepts all data in a list and runs that through a function to create a new list with all elements that return True in that function"
   ]
  },
  {
   "cell_type": "code",
   "execution_count": 22,
   "id": "bdb595ae",
   "metadata": {},
   "outputs": [
    {
     "data": {
      "text/plain": [
       "[False, True, False]"
      ]
     },
     "execution_count": 22,
     "metadata": {},
     "output_type": "execute_result"
    }
   ],
   "source": [
    "list(map(lambda var: var%2 == 0, [1,2,3]))"
   ]
  },
  {
   "cell_type": "code",
   "execution_count": 23,
   "id": "4d99d7f1",
   "metadata": {},
   "outputs": [
    {
     "data": {
      "text/plain": [
       "[2]"
      ]
     },
     "execution_count": 23,
     "metadata": {},
     "output_type": "execute_result"
    }
   ],
   "source": [
    "list(filter(lambda var: var%2 == 0, [1,2,3]))"
   ]
  },
  {
   "cell_type": "markdown",
   "id": "5cba88ae",
   "metadata": {},
   "source": [
    "###  Global & Local variable\n"
   ]
  },
  {
   "cell_type": "code",
   "execution_count": 24,
   "id": "f1ed785a",
   "metadata": {},
   "outputs": [
    {
     "name": "stdout",
     "output_type": "stream",
     "text": [
      "Printing inside the function and total is 45\n"
     ]
    }
   ],
   "source": [
    "# Global variable defined outside the function. This variale can be used outside as well as inside the function.\n",
    "# if you want to use variable anywhere inthe program you can use global variable.\n",
    "\n",
    "extra_marks = 10\n",
    "\n",
    "def tot_score_glob():\n",
    "    print('Printing inside the function and total is', 35 + extra_marks)\n",
    "\n",
    "tot_score_glob()"
   ]
  },
  {
   "cell_type": "code",
   "execution_count": 25,
   "id": "e7478492",
   "metadata": {},
   "outputs": [
    {
     "name": "stdout",
     "output_type": "stream",
     "text": [
      "Printing inside the function and total is 45\n"
     ]
    }
   ],
   "source": [
    " print('Printing inside the function and total is', 35 + extra_marks)"
   ]
  },
  {
   "cell_type": "code",
   "execution_count": 26,
   "id": "e0304163",
   "metadata": {},
   "outputs": [
    {
     "name": "stdout",
     "output_type": "stream",
     "text": [
      "Printing inside the function and total is 45\n"
     ]
    }
   ],
   "source": [
    "# local variable defined inside the function. This variale can be used only inside the function.\n",
    "# if you want to restrict the variable usage within the function itself  and don't want to use anywhere outside \n",
    "# the fnction then use local variable. \n",
    "\n",
    "def tot_score_local():\n",
    "    some_marks = 10\n",
    "    print('Printing inside the function and total is', 35 + some_marks)\n",
    "\n",
    "tot_score_glob()"
   ]
  },
  {
   "cell_type": "code",
   "execution_count": 28,
   "id": "63c885c5",
   "metadata": {},
   "outputs": [
    {
     "ename": "NameError",
     "evalue": "name 'some_marks' is not defined",
     "output_type": "error",
     "traceback": [
      "\u001b[1;31m---------------------------------------------------------------------------\u001b[0m",
      "\u001b[1;31mNameError\u001b[0m                                 Traceback (most recent call last)",
      "Input \u001b[1;32mIn [28]\u001b[0m, in \u001b[0;36m<cell line: 1>\u001b[1;34m()\u001b[0m\n\u001b[1;32m----> 1\u001b[0m \u001b[38;5;28mprint\u001b[39m(\u001b[38;5;124m'\u001b[39m\u001b[38;5;124mPrinting inside the function and total is\u001b[39m\u001b[38;5;124m'\u001b[39m, \u001b[38;5;241m35\u001b[39m \u001b[38;5;241m+\u001b[39m \u001b[43msome_marks\u001b[49m)\n",
      "\u001b[1;31mNameError\u001b[0m: name 'some_marks' is not defined"
     ]
    }
   ],
   "source": [
    "print('Printing inside the function and total is', 35 + some_marks)"
   ]
  },
  {
   "cell_type": "markdown",
   "id": "60d63c5f",
   "metadata": {},
   "source": [
    "### How to use local variable outside the variable\n",
    " it is possible when we make a local variable into a global variable using keyword \"global\""
   ]
  },
  {
   "cell_type": "code",
   "execution_count": 33,
   "id": "7bb30737",
   "metadata": {},
   "outputs": [
    {
     "name": "stdout",
     "output_type": "stream",
     "text": [
      "the value of x = 10\n"
     ]
    }
   ],
   "source": [
    "def local_global():\n",
    "    global x\n",
    "    x= 10\n",
    "    print('the value of x =', x)\n",
    "\n",
    "local_global()"
   ]
  },
  {
   "cell_type": "code",
   "execution_count": 35,
   "id": "fad32e13",
   "metadata": {},
   "outputs": [
    {
     "name": "stdout",
     "output_type": "stream",
     "text": [
      "10\n"
     ]
    }
   ],
   "source": [
    "print(x)"
   ]
  }
 ],
 "metadata": {
  "kernelspec": {
   "display_name": "Python 3 (ipykernel)",
   "language": "python",
   "name": "python3"
  },
  "language_info": {
   "codemirror_mode": {
    "name": "ipython",
    "version": 3
   },
   "file_extension": ".py",
   "mimetype": "text/x-python",
   "name": "python",
   "nbconvert_exporter": "python",
   "pygments_lexer": "ipython3",
   "version": "3.9.12"
  }
 },
 "nbformat": 4,
 "nbformat_minor": 5
}
